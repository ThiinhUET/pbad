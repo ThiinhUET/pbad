{
 "cells": [
  {
   "cell_type": "markdown",
   "metadata": {},
   "source": [
    "# Imports"
   ]
  },
  {
   "cell_type": "code",
   "execution_count": 1,
   "metadata": {
    "ExecuteTime": {
     "end_time": "2020-02-04T19:34:46.137878Z",
     "start_time": "2020-02-04T19:34:43.102059Z"
    }
   },
   "outputs": [],
   "source": [
    "import sys, os, time, copy, random, math\n",
    "import numpy as np\n",
    "import pandas as pd\n",
    "import pickle\n",
    "import itertools\n",
    "from glob import glob\n",
    "from collections import Counter, OrderedDict\n",
    "\n",
    "import matplotlib.pyplot as plt\n",
    "%matplotlib inline\n",
    "\n",
    "from sklearn.ensemble import IsolationForest\n",
    "from sklearn.metrics import roc_auc_score, roc_curve, auc\n",
    "from sklearn.decomposition import PCA\n",
    "\n",
    "%reload_ext autoreload\n",
    "%autoreload 2"
   ]
  },
  {
   "cell_type": "markdown",
   "metadata": {
    "heading_collapsed": true
   },
   "source": [
    "# Dataset settings"
   ]
  },
  {
   "cell_type": "code",
   "execution_count": 26,
   "metadata": {
    "ExecuteTime": {
     "end_time": "2019-06-28T15:20:37.090824Z",
     "start_time": "2019-06-28T15:20:37.034033Z"
    },
    "hidden": true,
    "scrolled": true
   },
   "outputs": [
    {
     "name": "stdout",
     "output_type": "stream",
     "text": [
      "/home/vincentv/dtaijupiter/projects/camera_ready_PBAD/data/univariate/new_york_taxi\n",
      "False 30 79\n",
      "\n"
     ]
    }
   ],
   "source": [
    "all_datases = [d for d in glob(os.path.join('/home/vincentv/dtaijupiter/projects/camera_ready_PBAD/data/univariate/', '*')) if not('__' in d)]\n",
    "for d in all_datases:\n",
    "    rset = pickle.load(open(os.path.join(d, 'data_settings.pickle'), 'rb'))\n",
    "    df = pd.read_csv(os.path.join(d, 'train_data.csv'), sep=',', header=0, names=['pc1', 'label'], usecols=[1, 2])\n",
    "    nr_vals = len(np.unique(df['pc1'].values))\n",
    "    #rset['bin_size'] = 1\n",
    "    #with open(os.path.join(d, 'data_settings.pickle'), 'wb') as handle:\n",
    "    #    pickle.dump(rset, handle, protocol=pickle.HIGHEST_PROTOCOL)\n",
    "    print(d)\n",
    "    #print(rset)\n",
    "    \n",
    "    print(rset['discretize'], rset['alphabet_size'], nr_vals)\n",
    "    print()\n",
    "    \n",
    "    break"
   ]
  },
  {
   "cell_type": "markdown",
   "metadata": {},
   "source": [
    "# Functions"
   ]
  },
  {
   "cell_type": "code",
   "execution_count": 2,
   "metadata": {
    "ExecuteTime": {
     "end_time": "2020-02-04T19:34:46.201488Z",
     "start_time": "2020-02-04T19:34:46.176633Z"
    },
    "code_folding": [
     0
    ]
   },
   "outputs": [],
   "source": [
    "def compute_average_rank(df_matrix, threshold=0.001):\n",
    "    \"\"\" Compute the average rank of each method in the columns of the dataframe:\n",
    "    - columns = methods\n",
    "    - index = datasets\n",
    "    \"\"\"\n",
    "    \n",
    "    # invert the values (lower == better)\n",
    "    matrix = 1.0 - df_matrix\n",
    "    ranking = np.zeros(matrix.shape)\n",
    "    methods = df_matrix.columns\n",
    "    \n",
    "    k = float(matrix.shape[1])\n",
    "    N = float(matrix.shape[0])\n",
    "    \n",
    "    # ranks\n",
    "    i = 0\n",
    "    for index, row in matrix.iterrows():\n",
    "        rank = rank_row(row.values, threshold)\n",
    "        ranking[i, :] = rank\n",
    "        i += 1\n",
    "        \n",
    "    # average rank\n",
    "    a_ranks = pd.DataFrame(0, columns=['avg_rank', 'stdv', 'avg_metric'], index=methods)\n",
    "    avg_rank = np.mean(ranking, axis=0)\n",
    "    std_rank = np.std(ranking, axis=0)\n",
    "    for i, m in enumerate(methods):\n",
    "        a_ranks.iloc[i, 0] = avg_rank[i]\n",
    "        a_ranks.iloc[i, 1] = std_rank[i]\n",
    "        a_ranks.iloc[i, 2] = np.mean(df_matrix.loc[:, m].values)\n",
    "        \n",
    "    return a_ranks"
   ]
  },
  {
   "cell_type": "code",
   "execution_count": 3,
   "metadata": {
    "ExecuteTime": {
     "end_time": "2020-02-04T19:34:46.264229Z",
     "start_time": "2020-02-04T19:34:46.241843Z"
    },
    "code_folding": [
     0
    ]
   },
   "outputs": [],
   "source": [
    "def count_wins_equal_losses(matrix, threshold=0.001, return_best=False):\n",
    "    results = {}\n",
    "    #sources = np.array([s.split('source_')[1] for s in matrix.index])\n",
    "    #source_types = np.unique(sources)\n",
    "    methods = matrix.columns\n",
    "    for _, m in enumerate(methods):\n",
    "        # win-loose-equal matrix\n",
    "        other_methods = np.setdiff1d(methods, m)\n",
    "        wle_matrix = pd.DataFrame(0, columns=['win', 'equal', 'lose'], index=other_methods)\n",
    "        for i in range(matrix.shape[0]):\n",
    "            row = matrix.iloc[i, :]\n",
    "            mv = row[m]\n",
    "            for m2 in other_methods:\n",
    "                mv2 = row[m2]\n",
    "                if abs(mv - mv2) < threshold:\n",
    "                    # equal\n",
    "                    wle_matrix.loc[m2, 'equal'] += 1\n",
    "                elif mv > mv2:\n",
    "                    # win\n",
    "                    wle_matrix.loc[m2, 'win'] += 1\n",
    "                else:\n",
    "                    # loose\n",
    "                    wle_matrix.loc[m2, 'lose'] += 1\n",
    "        results[m] = wle_matrix\n",
    "        \n",
    "    if return_best:\n",
    "        best_results = {}\n",
    "        best_nwins = 0\n",
    "        for k, v in results.items():\n",
    "            nwins = np.sum(v.win.values)\n",
    "            if nwins > best_nwins:\n",
    "                best_nwins = nwins\n",
    "                best_results = {'param': k, 'nwins': nwins}\n",
    "        \n",
    "        return best_results\n",
    "        \n",
    "    return results"
   ]
  },
  {
   "cell_type": "code",
   "execution_count": 4,
   "metadata": {
    "ExecuteTime": {
     "end_time": "2020-02-04T19:34:46.338941Z",
     "start_time": "2020-02-04T19:34:46.307080Z"
    },
    "code_folding": [
     0
    ]
   },
   "outputs": [],
   "source": [
    "def rank_row(row, abs_tol=0.001):\n",
    "    \"\"\" NOT PERFECT! problem: consecutive comparison of elements in the array can allow for the same rank between the first element and last element of a series of subsequent elements,\n",
    "        where the distance between the two is larger than the allowed distance, but the increments between all the consecutive elements are smaller than the allowed distance.\n",
    "        Therefore, they all get the same rank, although technically they shouldn't have the same rank. \"\"\"\n",
    "    arr = np.ravel(np.asarray(row))\n",
    "    sorter = np.argsort(arr, kind='quicksort')\n",
    "    \n",
    "    inv = np.empty(arr.size, dtype=np.intp)\n",
    "    inv[sorter] = np.arange(arr.size, dtype=np.intp)\n",
    "    \n",
    "    arr = arr[sorter]\n",
    "    \n",
    "    s = 0\n",
    "    n = 1\n",
    "    ranks = np.arange(1, arr.size + 1, 1, dtype=float)\n",
    "    for i in range(1, arr.size):\n",
    "        curr, prev = arr[i], arr[i - 1]\n",
    "        if abs(curr - prev) > abs_tol:\n",
    "            ranks[s:i] = np.sum(ranks[s:i]) / n\n",
    "            s = i\n",
    "            n = 1\n",
    "        elif i == arr.size - 1:\n",
    "            ranks[s:] = np.sum(ranks[s:]) / (n + 1)\n",
    "            break\n",
    "        else:\n",
    "            n += 1\n",
    "            \n",
    "    return ranks[inv]"
   ]
  },
  {
   "cell_type": "code",
   "execution_count": 5,
   "metadata": {
    "ExecuteTime": {
     "end_time": "2020-02-04T19:34:46.398978Z",
     "start_time": "2020-02-04T19:34:46.379232Z"
    },
    "code_folding": [
     0
    ]
   },
   "outputs": [],
   "source": [
    "def number_of_wins_overal(matrix):\n",
    "    \n",
    "    nds, nm = matrix.shape\n",
    "    methods = matrix.columns\n",
    "    nwins = np.zeros(nm, dtype=int)\n",
    "    \n",
    "    best_methods = np.argmax(matrix.astype(float).values, axis=1)\n",
    "    for i, bm in enumerate(best_methods):\n",
    "        nwins[bm] += 1\n",
    "        \n",
    "    return nwins"
   ]
  },
  {
   "cell_type": "code",
   "execution_count": 6,
   "metadata": {
    "ExecuteTime": {
     "end_time": "2020-02-04T19:34:46.469126Z",
     "start_time": "2020-02-04T19:34:46.442414Z"
    },
    "code_folding": [
     0
    ]
   },
   "outputs": [],
   "source": [
    "def find_best_settings_algorithm(results, algorithm_settings, threshold=0.005):\n",
    "    # filter results on the provided settings\n",
    "    tmp_results = results.copy()\n",
    "    for key, value in algorithm_settings.items():\n",
    "        tmp_results = tmp_results[tmp_results[key] == value]\n",
    "    # group the results by parameters: prep, transfer_param, classifier_param\n",
    "    groups = tmp_results.groupby(['AD_settings'])\n",
    "    # construct the results matrix\n",
    "    dataset_names = np.unique(tmp_results['dname'].values)\n",
    "    matrix = pd.DataFrame(index=dataset_names)\n",
    "    names = []\n",
    "    for group_name, group in groups:\n",
    "        aucs = group.loc[:, ['dname', 'auroc']]\n",
    "        aucs.set_index('dname', inplace=True)\n",
    "        aucs.columns = [group_name]\n",
    "        matrix = matrix.join(aucs)\n",
    "        names.append(group_name)\n",
    "    matrix.astype(float)\n",
    "    mean_aucs = np.mean(matrix, axis=0)\n",
    "    # remove the NaN-columns (i.e, these settings did not work for the data)\n",
    "    nan_methods = matrix.columns[matrix.isnull().any()]\n",
    "    working_methods = matrix.columns[~matrix.isnull().any()]\n",
    "    if len(working_methods) == 1:\n",
    "        print('WORKING METHOD: ', working_methods[0])\n",
    "        return matrix, nan_methods\n",
    "    matrix = matrix.loc[:, working_methods].copy()\n",
    "    # make the comparison\n",
    "    # average ranks/number of wins\n",
    "    matrix = 1.0 - matrix\n",
    "    ranking = np.zeros(matrix.shape)\n",
    "    methods = matrix.columns\n",
    "    # ranks\n",
    "    i = 0\n",
    "    for index, row in matrix.iterrows():\n",
    "        rank = rank_row(row.values, threshold)\n",
    "        ranking[i, :] = rank\n",
    "        i += 1\n",
    "    # average rank\n",
    "    final_results = pd.DataFrame(0, columns=['avg_rank', 'avg_AUROC', 'settings'], index=methods)\n",
    "    avg_rank = np.mean(ranking, axis=0)\n",
    "    std_rank = np.std(ranking, axis=0)\n",
    "    for i, m in enumerate(names):\n",
    "        final_results.iloc[i, 0] = round(avg_rank[i], 3) # +' pm '+str(round(std_rank[i], 3))\n",
    "        final_results.iloc[i, 1] = mean_aucs[m]\n",
    "        final_results.iloc[i, 2] = 'settings: {}'.format(m)\n",
    "    # sort\n",
    "    final_results.sort_values('avg_rank', inplace=True, ascending=True)\n",
    "    return final_results, nan_methods"
   ]
  },
  {
   "cell_type": "code",
   "execution_count": 7,
   "metadata": {
    "ExecuteTime": {
     "end_time": "2020-02-04T19:34:46.535421Z",
     "start_time": "2020-02-04T19:34:46.508383Z"
    },
    "code_folding": [
     0
    ]
   },
   "outputs": [],
   "source": [
    "def find_feasible_settings_algorithm(results, algorithm_settings, threshold=0.005):\n",
    "    # filter results on the provided settings\n",
    "    tmp_results = results.copy()\n",
    "    for key, value in algorithm_settings.items():\n",
    "        tmp_results = tmp_results[tmp_results[key] == value]\n",
    "    # group the results by parameters: prep, transfer_param, classifier_param\n",
    "    groups = tmp_results.groupby(['AD_settings'])\n",
    "    # construct the results matrix\n",
    "    dataset_names = np.unique(tmp_results['dname'].values)\n",
    "    matrix = pd.DataFrame(index=dataset_names)\n",
    "    names = []\n",
    "    for group_name, group in groups:\n",
    "        aucs = group.loc[:, ['dname', 'auroc']]\n",
    "        aucs.set_index('dname', inplace=True)\n",
    "        aucs.columns = [group_name]\n",
    "        matrix = matrix.join(aucs)\n",
    "        names.append(group_name)\n",
    "    matrix.astype(float)\n",
    "    mean_aucs = np.mean(matrix, axis=0)\n",
    "    #remove the NaN-columns (i.e, these settings did not work for the data)\n",
    "    nan_methods = matrix.columns[matrix.isnull().any()]\n",
    "    working_methods = matrix.columns[~matrix.isnull().any()]\n",
    "    if len(working_methods) == 1:\n",
    "        print('WORKING METHOD: ', working_methods[0])\n",
    "        return matrix, nan_methods\n",
    "    matrix = matrix.loc[:, working_methods].copy()\n",
    "    #make the comparison\n",
    "    #average ranks/number of wins\n",
    "    matrix = 1.0 - matrix\n",
    "    ranking = np.zeros(matrix.shape)\n",
    "    methods = matrix.columns\n",
    "    # ranks\n",
    "    i = 0\n",
    "    for index, row in matrix.iterrows():\n",
    "        rank = rank_row(row.values, threshold)\n",
    "        ranking[i, :] = rank\n",
    "        i += 1\n",
    "    # average rank\n",
    "    final_results = pd.DataFrame(0, columns=['avg_rank', 'avg_AUROC', 'settings'], index=methods)\n",
    "    avg_rank = np.mean(ranking, axis=0)\n",
    "    std_rank = np.std(ranking, axis=0)\n",
    "    for i, m in enumerate(methods):\n",
    "        final_results.iloc[i, 0] = round(avg_rank[i], 3) # +' pm '+str(round(std_rank[i], 3))\n",
    "        final_results.iloc[i, 1] = mean_aucs[m]\n",
    "        final_results.iloc[i, 2] = 'settings: {}'.format(m)\n",
    "    # sort\n",
    "    final_results.sort_values('avg_rank', inplace=True, ascending=True)\n",
    "    return final_results, nan_methods"
   ]
  },
  {
   "cell_type": "code",
   "execution_count": 8,
   "metadata": {
    "ExecuteTime": {
     "end_time": "2020-02-04T19:34:46.598973Z",
     "start_time": "2020-02-04T19:34:46.575463Z"
    },
    "code_folding": [
     0
    ]
   },
   "outputs": [],
   "source": [
    "def construct_results_matrix(results, methods={}, metric='auroc'):\n",
    "    if len(methods) == 0:\n",
    "        sys.exit('Requires a selection of methods!')\n",
    "    # construct the matrix\n",
    "    dataset_names = np.unique(results['dname'].values)\n",
    "    matrix = pd.DataFrame(index=dataset_names)\n",
    "    # selecting the optimal parameters\n",
    "    oracle_settings = {}\n",
    "    for mname, mfilter in methods.items():\n",
    "        if mname != 'PBAD' and mfilter['AD_settings'] == 'oracle':\n",
    "            print('ORACLE selects best settings for:', mfilter['method'])\n",
    "            # select the best setting for this each dataset using the oracle\n",
    "            tmp_results = results[results['method'] == mfilter['method']].copy()\n",
    "            tmp_groups = tmp_results.groupby('AD_settings')\n",
    "            tmp_matrix = pd.DataFrame(index=dataset_names)\n",
    "            for gname, g in tmp_groups:\n",
    "                aucs = g.loc[:, ['dname', metric]]\n",
    "                aucs.set_index('dname', inplace=True)\n",
    "                aucs.columns = [gname]\n",
    "                tmp_matrix = tmp_matrix.join(aucs)\n",
    "            oracle_settings[mname] = tmp_matrix\n",
    "            aucs = tmp_matrix.max(axis=1).to_frame()\n",
    "        else:\n",
    "            m_results = _apply_strict_data_filter(results.copy(), mfilter)\n",
    "            # TODO: requires all tests to have been completed + no duplicate results or sth\n",
    "            aucs = m_results.loc[:, ['dname', metric]]\n",
    "            aucs.set_index('dname', inplace=True)\n",
    "        aucs.columns = [mname]\n",
    "        matrix = matrix.join(aucs)\n",
    "    matrix.astype(np.float)\n",
    "    return matrix, oracle_settings"
   ]
  },
  {
   "cell_type": "code",
   "execution_count": 9,
   "metadata": {
    "ExecuteTime": {
     "end_time": "2020-02-04T19:34:46.664759Z",
     "start_time": "2020-02-04T19:34:46.641634Z"
    },
    "code_folding": [
     0
    ]
   },
   "outputs": [],
   "source": [
    "def adjust_results_matrix(matrix, drop=False):\n",
    "    \"\"\" Adjust 3 things:\n",
    "    1. combine the colruyt stores (day and night)\n",
    "    2. Add the average metric\n",
    "    3. Add the number of wins\n",
    "    4. Add the average ranks\n",
    "    \"\"\"\n",
    "    # names of the datasets\n",
    "    dnames = matrix.index.values\n",
    "    colruyts = np.unique([d.split('_')[1] for d in dnames if 'colruyt' in d])\n",
    "    colruyt_names = np.unique([d for d in dnames if 'colruyt' in d])\n",
    "    colruyt_pairs = [[np.where(dnames == 'colruyt_'+c+'_day')[0][0], np.where(dnames == 'colruyt_'+c+'_night')[0][0]] for c in colruyts]\n",
    "    for i, c in enumerate(colruyt_pairs):\n",
    "        matrix.loc['colruyt_'+colruyts[i], :] = np.mean(matrix.iloc[c, :], axis=0)\n",
    "    matrix.drop(colruyt_names, axis=0, inplace=True)\n",
    "    # drop brasschaat\n",
    "    if drop:\n",
    "        matrix.drop('colruyt_brasschaat', axis=0, inplace=True)\n",
    "    base_matrix = matrix.copy()\n",
    "    # add average metric\n",
    "    matrix.loc['average_metric', :] = np.mean(matrix.astype(float).values, axis=0)\n",
    "    # add the number of wins\n",
    "    nwins = number_of_wins_overal(base_matrix.astype(float))\n",
    "    matrix.loc['number_of_wins', :] = nwins\n",
    "    # add the average ranks\n",
    "    a_ranks = compute_average_rank(base_matrix.astype(float), threshold=0.001)\n",
    "    matrix.loc['average_rank', :] = a_ranks.iloc[:, 0].values\n",
    "    # return result\n",
    "    return matrix"
   ]
  },
  {
   "cell_type": "code",
   "execution_count": 10,
   "metadata": {
    "ExecuteTime": {
     "end_time": "2020-02-04T19:34:46.727167Z",
     "start_time": "2020-02-04T19:34:46.708241Z"
    },
    "code_folding": [
     0
    ]
   },
   "outputs": [],
   "source": [
    "def _apply_strict_data_filter(data, apply_filter):\n",
    "    if len(apply_filter) > 0:\n",
    "        keep_ix = data.index.values\n",
    "        for k, v in apply_filter.items():\n",
    "            ix = []\n",
    "            for i, val in enumerate(data[k].values):\n",
    "                if isinstance(v, tuple) or isinstance(v, list):\n",
    "                    if val in v:\n",
    "                        ix.append(i)\n",
    "                else:\n",
    "                    if val == v:\n",
    "                        ix.append(i)\n",
    "            keep_ix = np.intersect1d(keep_ix, np.array(ix))\n",
    "        data = data.iloc[keep_ix, :]\n",
    "    return data"
   ]
  },
  {
   "cell_type": "markdown",
   "metadata": {},
   "source": [
    "# Univariate"
   ]
  },
  {
   "cell_type": "markdown",
   "metadata": {},
   "source": [
    "Procedure:\n",
    "\n",
    "1. Load the data: only night/day - no NY Taxi\n",
    "2. Select the best parameters for each method accross the board OR set minsup etc. by hand\n",
    "3. AUROC and AP per dataset"
   ]
  },
  {
   "cell_type": "markdown",
   "metadata": {
    "heading_collapsed": true
   },
   "source": [
    "## Dataset information"
   ]
  },
  {
   "cell_type": "code",
   "execution_count": 7,
   "metadata": {
    "ExecuteTime": {
     "end_time": "2019-06-25T07:53:43.284546Z",
     "start_time": "2019-06-25T07:53:43.249880Z"
    },
    "hidden": true
   },
   "outputs": [
    {
     "name": "stdout",
     "output_type": "stream",
     "text": [
      "['ambient_temperature', 'new_york_taxi', 'request_latency']\n"
     ]
    }
   ],
   "source": [
    "data_root = '/home/vincentv/dtaijupiter/projects/camera_ready_PBAD/data/univariate/'\n",
    "ds_benchmarks = np.sort([d for d in glob(os.path.join(data_root, '*')) if not('day' in d or 'night' in d or 'ds_d731' in d or '__new_york' in d or 'brasschaat' in d)])  # 'taxi' in d or '__' in d or '_full' in d\n",
    "#ds_benchmarks = np.sort([d for d in glob(os.path.join(data_root, '*')) if '_full' in d and 'colruyt' in d and not('brasschaat' in d)])  # 'taxi' in d or '__' in d or '_full' in d\n",
    "dnames = [d.split('/')[-1] for d in ds_benchmarks]\n",
    "print(dnames)"
   ]
  },
  {
   "cell_type": "code",
   "execution_count": 23,
   "metadata": {
    "ExecuteTime": {
     "end_time": "2019-03-29T10:23:48.006276Z",
     "start_time": "2019-03-29T10:23:47.477394Z"
    },
    "hidden": true
   },
   "outputs": [],
   "source": [
    "ds_details = pd.DataFrame(0, columns=['nr_datapoints', 'nr_labeled', 'nr_norm', 'nr_anom', 'dps_per_hour', 'total_time', 'origin'], index=dnames)\n",
    "for i, dn in enumerate(dnames):\n",
    "    df = pd.read_csv(os.path.join(ds_benchmarks[i], 'train_data.csv'), sep=',', header=0, names=['pc1', 'label'], usecols=[1, 2])\n",
    "    labels = df.label.values\n",
    "    ixl = np.where(labels != 0.0)[0]\n",
    "    ixa = np.where(labels == 1.0)[0]\n",
    "    ixn = np.where(labels == -1.0)[0]\n",
    "    \n",
    "    dpss = {'colruyt': 12, 'ambient_temperature': 1, 'request_latency': 12, 'new_york_taxi_good': 2}\n",
    "    \n",
    "    # labels etc.\n",
    "    if 'colruyt' in dn:\n",
    "        dps = dpss['colruyt']\n",
    "        nrl = int(len(ixl))\n",
    "        nral = int(len(ixa))\n",
    "        nrnl = int(len(ixn))\n",
    "        tt = (df.shape[0] / dps) / 24\n",
    "    else:\n",
    "        dps = dpss[dn]\n",
    "        nrl = int(len(ixl)) / dps\n",
    "        nral = int(len(ixa)) / dps\n",
    "        nrnl = int(len(ixn)) / dps\n",
    "        tt = (df.shape[0] / dps) / 24\n",
    "    ds_details.loc[dn, 'nr_datapoints'] = int(df.shape[0])\n",
    "    ds_details.loc[dn, 'nr_labeled'] = nrl\n",
    "    ds_details.loc[dn, 'nr_anom'] = nral\n",
    "    ds_details.loc[dn, 'nr_norm'] = nrnl\n",
    "    ds_details.loc[dn, 'dps_per_hour'] = dps\n",
    "    ds_details.loc[dn, 'total_time'] = int(tt)\n",
    "    \n",
    "    # some additional info\n",
    "    if 'colruyt' in dn:\n",
    "        ds_details.loc[dn, 'origin'] = 'Company'\n",
    "    else:\n",
    "        ds_details.loc[dn, 'origin'] = 'Numenta'"
   ]
  },
  {
   "cell_type": "code",
   "execution_count": 24,
   "metadata": {
    "ExecuteTime": {
     "end_time": "2019-03-29T10:23:48.085772Z",
     "start_time": "2019-03-29T10:23:48.059612Z"
    },
    "hidden": true
   },
   "outputs": [
    {
     "data": {
      "text/html": [
       "<div>\n",
       "<style>\n",
       "    .dataframe thead tr:only-child th {\n",
       "        text-align: right;\n",
       "    }\n",
       "\n",
       "    .dataframe thead th {\n",
       "        text-align: left;\n",
       "    }\n",
       "\n",
       "    .dataframe tbody tr th {\n",
       "        vertical-align: top;\n",
       "    }\n",
       "</style>\n",
       "<table border=\"1\" class=\"dataframe\">\n",
       "  <thead>\n",
       "    <tr style=\"text-align: right;\">\n",
       "      <th></th>\n",
       "      <th>nr_datapoints</th>\n",
       "      <th>nr_labeled</th>\n",
       "      <th>nr_norm</th>\n",
       "      <th>nr_anom</th>\n",
       "      <th>dps_per_hour</th>\n",
       "      <th>total_time</th>\n",
       "      <th>origin</th>\n",
       "    </tr>\n",
       "  </thead>\n",
       "  <tbody>\n",
       "    <tr>\n",
       "      <th>__colruyt_aalst_full</th>\n",
       "      <td>292632</td>\n",
       "      <td>1217</td>\n",
       "      <td>829</td>\n",
       "      <td>388</td>\n",
       "      <td>12</td>\n",
       "      <td>1016</td>\n",
       "      <td>Company</td>\n",
       "    </tr>\n",
       "    <tr>\n",
       "      <th>__colruyt_aarschot_full</th>\n",
       "      <td>281485</td>\n",
       "      <td>2391</td>\n",
       "      <td>2178</td>\n",
       "      <td>213</td>\n",
       "      <td>12</td>\n",
       "      <td>977</td>\n",
       "      <td>Company</td>\n",
       "    </tr>\n",
       "    <tr>\n",
       "      <th>__colruyt_hasselt_full</th>\n",
       "      <td>169253</td>\n",
       "      <td>1595</td>\n",
       "      <td>1488</td>\n",
       "      <td>107</td>\n",
       "      <td>12</td>\n",
       "      <td>587</td>\n",
       "      <td>Company</td>\n",
       "    </tr>\n",
       "    <tr>\n",
       "      <th>__colruyt_heverlee_full</th>\n",
       "      <td>292608</td>\n",
       "      <td>1821</td>\n",
       "      <td>615</td>\n",
       "      <td>1206</td>\n",
       "      <td>12</td>\n",
       "      <td>1016</td>\n",
       "      <td>Company</td>\n",
       "    </tr>\n",
       "    <tr>\n",
       "      <th>__colruyt_mol_full</th>\n",
       "      <td>364032</td>\n",
       "      <td>574</td>\n",
       "      <td>504</td>\n",
       "      <td>70</td>\n",
       "      <td>12</td>\n",
       "      <td>1264</td>\n",
       "      <td>Company</td>\n",
       "    </tr>\n",
       "    <tr>\n",
       "      <th>__colruyt_roodebeek_full</th>\n",
       "      <td>364032</td>\n",
       "      <td>1047</td>\n",
       "      <td>815</td>\n",
       "      <td>232</td>\n",
       "      <td>12</td>\n",
       "      <td>1264</td>\n",
       "      <td>Company</td>\n",
       "    </tr>\n",
       "  </tbody>\n",
       "</table>\n",
       "</div>"
      ],
      "text/plain": [
       "                          nr_datapoints  nr_labeled  nr_norm  nr_anom  \\\n",
       "__colruyt_aalst_full             292632        1217      829      388   \n",
       "__colruyt_aarschot_full          281485        2391     2178      213   \n",
       "__colruyt_hasselt_full           169253        1595     1488      107   \n",
       "__colruyt_heverlee_full          292608        1821      615     1206   \n",
       "__colruyt_mol_full               364032         574      504       70   \n",
       "__colruyt_roodebeek_full         364032        1047      815      232   \n",
       "\n",
       "                          dps_per_hour  total_time   origin  \n",
       "__colruyt_aalst_full                12        1016  Company  \n",
       "__colruyt_aarschot_full             12         977  Company  \n",
       "__colruyt_hasselt_full              12         587  Company  \n",
       "__colruyt_heverlee_full             12        1016  Company  \n",
       "__colruyt_mol_full                  12        1264  Company  \n",
       "__colruyt_roodebeek_full            12        1264  Company  "
      ]
     },
     "execution_count": 24,
     "metadata": {},
     "output_type": "execute_result"
    }
   ],
   "source": [
    "ds_details.sort_index(ascending=True, inplace=True)\n",
    "ds_details.round(0)"
   ]
  },
  {
   "cell_type": "code",
   "execution_count": 25,
   "metadata": {
    "ExecuteTime": {
     "end_time": "2019-03-29T10:23:49.006398Z",
     "start_time": "2019-03-29T10:23:48.986712Z"
    },
    "hidden": true
   },
   "outputs": [
    {
     "data": {
      "text/plain": [
       "nr_datapoints    294007.000000\n",
       "nr_labeled         1440.833333\n",
       "nr_norm            1071.500000\n",
       "nr_anom             369.333333\n",
       "dps_per_hour         12.000000\n",
       "total_time         1020.666667\n",
       "dtype: float64"
      ]
     },
     "execution_count": 25,
     "metadata": {},
     "output_type": "execute_result"
    }
   ],
   "source": [
    "np.mean(ds_details, axis=0)"
   ]
  },
  {
   "cell_type": "code",
   "execution_count": null,
   "metadata": {
    "hidden": true
   },
   "outputs": [],
   "source": []
  },
  {
   "cell_type": "markdown",
   "metadata": {
    "heading_collapsed": true
   },
   "source": [
    "## Load the data"
   ]
  },
  {
   "cell_type": "code",
   "execution_count": 12,
   "metadata": {
    "ExecuteTime": {
     "end_time": "2019-06-28T15:26:21.966234Z",
     "start_time": "2019-06-28T15:26:21.849081Z"
    },
    "hidden": true,
    "scrolled": true
   },
   "outputs": [
    {
     "name": "stdout",
     "output_type": "stream",
     "text": [
      "(315, 16)\n"
     ]
    },
    {
     "data": {
      "text/html": [
       "<div>\n",
       "<style>\n",
       "    .dataframe thead tr:only-child th {\n",
       "        text-align: right;\n",
       "    }\n",
       "\n",
       "    .dataframe thead th {\n",
       "        text-align: left;\n",
       "    }\n",
       "\n",
       "    .dataframe tbody tr th {\n",
       "        vertical-align: top;\n",
       "    }\n",
       "</style>\n",
       "<table border=\"1\" class=\"dataframe\">\n",
       "  <thead>\n",
       "    <tr style=\"text-align: right;\">\n",
       "      <th></th>\n",
       "      <th>AD_settings</th>\n",
       "      <th>alphabet_size</th>\n",
       "      <th>ap</th>\n",
       "      <th>auroc</th>\n",
       "      <th>bin_size</th>\n",
       "      <th>capvalue</th>\n",
       "      <th>data_type</th>\n",
       "      <th>discretize</th>\n",
       "      <th>dname</th>\n",
       "      <th>mph</th>\n",
       "      <th>nlabels</th>\n",
       "      <th>scaler</th>\n",
       "      <th>scaling</th>\n",
       "      <th>wincrement</th>\n",
       "      <th>wsize</th>\n",
       "      <th>method</th>\n",
       "    </tr>\n",
       "  </thead>\n",
       "  <tbody>\n",
       "    <tr>\n",
       "      <th>0</th>\n",
       "      <td>__AD_distance_formula_1.0__AD_exact_match_Fals...</td>\n",
       "      <td>30</td>\n",
       "      <td>0.374640</td>\n",
       "      <td>0.551638</td>\n",
       "      <td>1</td>\n",
       "      <td>0.5</td>\n",
       "      <td>univariate</td>\n",
       "      <td>False</td>\n",
       "      <td>request_latency</td>\n",
       "      <td>12</td>\n",
       "      <td>0.0</td>\n",
       "      <td>1.0</td>\n",
       "      <td>False</td>\n",
       "      <td>6.0</td>\n",
       "      <td>12.0</td>\n",
       "      <td>PBAD</td>\n",
       "    </tr>\n",
       "    <tr>\n",
       "      <th>1</th>\n",
       "      <td>__AD_jaccard_threshold_0.9__AD_method_name_FPO...</td>\n",
       "      <td>30</td>\n",
       "      <td>0.296453</td>\n",
       "      <td>0.493286</td>\n",
       "      <td>1</td>\n",
       "      <td>0.5</td>\n",
       "      <td>univariate</td>\n",
       "      <td>False</td>\n",
       "      <td>request_latency</td>\n",
       "      <td>12</td>\n",
       "      <td>0.0</td>\n",
       "      <td>1.0</td>\n",
       "      <td>False</td>\n",
       "      <td>6.0</td>\n",
       "      <td>12.0</td>\n",
       "      <td>FPOF</td>\n",
       "    </tr>\n",
       "    <tr>\n",
       "      <th>2</th>\n",
       "      <td>__AD_distance_formula_1.0__AD_exact_match_Fals...</td>\n",
       "      <td>30</td>\n",
       "      <td>0.358666</td>\n",
       "      <td>0.528736</td>\n",
       "      <td>1</td>\n",
       "      <td>0.5</td>\n",
       "      <td>univariate</td>\n",
       "      <td>False</td>\n",
       "      <td>request_latency</td>\n",
       "      <td>12</td>\n",
       "      <td>0.0</td>\n",
       "      <td>1.0</td>\n",
       "      <td>False</td>\n",
       "      <td>6.0</td>\n",
       "      <td>12.0</td>\n",
       "      <td>PBAD</td>\n",
       "    </tr>\n",
       "    <tr>\n",
       "      <th>3</th>\n",
       "      <td>__AD_distance_formula_1.0__AD_exact_match_Fals...</td>\n",
       "      <td>30</td>\n",
       "      <td>0.382477</td>\n",
       "      <td>0.553028</td>\n",
       "      <td>1</td>\n",
       "      <td>0.5</td>\n",
       "      <td>univariate</td>\n",
       "      <td>False</td>\n",
       "      <td>request_latency</td>\n",
       "      <td>12</td>\n",
       "      <td>0.0</td>\n",
       "      <td>1.0</td>\n",
       "      <td>False</td>\n",
       "      <td>6.0</td>\n",
       "      <td>12.0</td>\n",
       "      <td>PBAD</td>\n",
       "    </tr>\n",
       "    <tr>\n",
       "      <th>4</th>\n",
       "      <td>__AD_distance_formula_1.0__AD_exact_match_Fals...</td>\n",
       "      <td>30</td>\n",
       "      <td>0.397902</td>\n",
       "      <td>0.597092</td>\n",
       "      <td>1</td>\n",
       "      <td>0.5</td>\n",
       "      <td>univariate</td>\n",
       "      <td>False</td>\n",
       "      <td>request_latency</td>\n",
       "      <td>12</td>\n",
       "      <td>0.0</td>\n",
       "      <td>1.0</td>\n",
       "      <td>False</td>\n",
       "      <td>6.0</td>\n",
       "      <td>12.0</td>\n",
       "      <td>PBAD</td>\n",
       "    </tr>\n",
       "  </tbody>\n",
       "</table>\n",
       "</div>"
      ],
      "text/plain": [
       "                                         AD_settings  alphabet_size        ap  \\\n",
       "0  __AD_distance_formula_1.0__AD_exact_match_Fals...             30  0.374640   \n",
       "1  __AD_jaccard_threshold_0.9__AD_method_name_FPO...             30  0.296453   \n",
       "2  __AD_distance_formula_1.0__AD_exact_match_Fals...             30  0.358666   \n",
       "3  __AD_distance_formula_1.0__AD_exact_match_Fals...             30  0.382477   \n",
       "4  __AD_distance_formula_1.0__AD_exact_match_Fals...             30  0.397902   \n",
       "\n",
       "      auroc  bin_size  capvalue   data_type  discretize            dname  mph  \\\n",
       "0  0.551638         1       0.5  univariate       False  request_latency   12   \n",
       "1  0.493286         1       0.5  univariate       False  request_latency   12   \n",
       "2  0.528736         1       0.5  univariate       False  request_latency   12   \n",
       "3  0.553028         1       0.5  univariate       False  request_latency   12   \n",
       "4  0.597092         1       0.5  univariate       False  request_latency   12   \n",
       "\n",
       "   nlabels  scaler  scaling  wincrement  wsize method  \n",
       "0      0.0     1.0    False         6.0   12.0   PBAD  \n",
       "1      0.0     1.0    False         6.0   12.0   FPOF  \n",
       "2      0.0     1.0    False         6.0   12.0   PBAD  \n",
       "3      0.0     1.0    False         6.0   12.0   PBAD  \n",
       "4      0.0     1.0    False         6.0   12.0   PBAD  "
      ]
     },
     "execution_count": 12,
     "metadata": {},
     "output_type": "execute_result"
    }
   ],
   "source": [
    "# load all the results\n",
    "path = '/home/vincentv/dtaijupiter/projects/camera_ready_PBAD/results/_compiled_results/univariate_no_discretization/'\n",
    "#path = '/home/vincentv/dtaijupiter/projects/pattern-outlier-detection/results/_compiled_results/univariate_results_extended/'\n",
    "#path = '/home/vincentv/dtaijupiter/projects/pattern-outlier-detection/results/_compiled_results/univariate/'\n",
    "result_parts = [f for f in glob(os.path.join(path, '*')) if '.csv' in f]\n",
    "result_parts = [d for d in result_parts if not('full_results' in d or '__' in d)]\n",
    "all_results = [pd.read_csv(i, sep=',', header=0, index_col=0) for i in result_parts]\n",
    "results = pd.concat(all_results)\n",
    "results.index = np.arange(0, len(results), 1)\n",
    "\n",
    "# add the method name as an extra column\n",
    "results['method'] = results.apply(lambda x: x['AD_settings'].split('__AD_method_name_')[-1].split('__')[0], axis=1)\n",
    "\n",
    "# print\n",
    "print(results.shape)\n",
    "results.head()"
   ]
  },
  {
   "cell_type": "code",
   "execution_count": 13,
   "metadata": {
    "ExecuteTime": {
     "end_time": "2019-06-28T15:26:23.603894Z",
     "start_time": "2019-06-28T15:26:23.582185Z"
    },
    "hidden": true
   },
   "outputs": [
    {
     "name": "stdout",
     "output_type": "stream",
     "text": [
      "17 ['ambient_temperature' 'colruyt_aalst_day' 'colruyt_aalst_night'\n",
      " 'colruyt_aarschot_day' 'colruyt_aarschot_night' 'colruyt_brasschaat_day'\n",
      " 'colruyt_brasschaat_night' 'colruyt_hasselt_day' 'colruyt_hasselt_night'\n",
      " 'colruyt_heverlee_day' 'colruyt_heverlee_night' 'colruyt_mol_day'\n",
      " 'colruyt_mol_night' 'colruyt_roodebeek_day' 'colruyt_roodebeek_night'\n",
      " 'new_york_taxi' 'request_latency']\n",
      "['FPOF' 'MIFPOD' 'MPAD' 'PAV' 'PBAD']\n"
     ]
    }
   ],
   "source": [
    "# all datasets and methods\n",
    "dnames = np.unique(results.dname.values)\n",
    "print(len(dnames), dnames)\n",
    "\n",
    "# all methods\n",
    "methods = np.unique(results.method.values)\n",
    "print(methods)"
   ]
  },
  {
   "cell_type": "markdown",
   "metadata": {
    "heading_collapsed": true
   },
   "source": [
    "## BASELINES: optimal parameter settings by AUROC rank"
   ]
  },
  {
   "cell_type": "code",
   "execution_count": 71,
   "metadata": {
    "ExecuteTime": {
     "end_time": "2019-06-27T15:17:27.234830Z",
     "start_time": "2019-06-27T15:17:27.062942Z"
    },
    "hidden": true,
    "scrolled": true
   },
   "outputs": [
    {
     "data": {
      "text/html": [
       "<div>\n",
       "<style>\n",
       "    .dataframe thead tr:only-child th {\n",
       "        text-align: right;\n",
       "    }\n",
       "\n",
       "    .dataframe thead th {\n",
       "        text-align: left;\n",
       "    }\n",
       "\n",
       "    .dataframe tbody tr th {\n",
       "        vertical-align: top;\n",
       "    }\n",
       "</style>\n",
       "<table border=\"1\" class=\"dataframe\">\n",
       "  <thead>\n",
       "    <tr style=\"text-align: right;\">\n",
       "      <th></th>\n",
       "      <th>avg_rank</th>\n",
       "      <th>avg_AUROC</th>\n",
       "      <th>settings</th>\n",
       "    </tr>\n",
       "  </thead>\n",
       "  <tbody>\n",
       "    <tr>\n",
       "      <th>__AD_jaccard_threshold_0.9__AD_method_name_FPOF__AD_pattern_pruning_closed__AD_relative_minsup_0.05__tune_False__</th>\n",
       "      <td>2.294</td>\n",
       "      <td>0.776992</td>\n",
       "      <td>settings: __AD_jaccard_threshold_0.9__AD_metho...</td>\n",
       "    </tr>\n",
       "    <tr>\n",
       "      <th>__AD_jaccard_threshold_0.9__AD_method_name_FPOF__AD_pattern_pruning_closed__AD_relative_minsup_0.1__tune_False__</th>\n",
       "      <td>2.324</td>\n",
       "      <td>0.781047</td>\n",
       "      <td>settings: __AD_jaccard_threshold_0.9__AD_metho...</td>\n",
       "    </tr>\n",
       "    <tr>\n",
       "      <th>__AD_jaccard_threshold_0.9__AD_method_name_FPOF__AD_pattern_pruning_closed__AD_relative_minsup_0.01__tune_False__</th>\n",
       "      <td>2.559</td>\n",
       "      <td>0.775152</td>\n",
       "      <td>settings: __AD_jaccard_threshold_0.9__AD_metho...</td>\n",
       "    </tr>\n",
       "    <tr>\n",
       "      <th>__AD_jaccard_threshold_0.9__AD_method_name_FPOF__AD_pattern_pruning_maximal__AD_relative_minsup_0.1__tune_False__</th>\n",
       "      <td>4.088</td>\n",
       "      <td>0.620551</td>\n",
       "      <td>settings: __AD_jaccard_threshold_0.9__AD_metho...</td>\n",
       "    </tr>\n",
       "    <tr>\n",
       "      <th>__AD_jaccard_threshold_0.9__AD_method_name_FPOF__AD_pattern_pruning_maximal__AD_relative_minsup_0.05__tune_False__</th>\n",
       "      <td>4.412</td>\n",
       "      <td>0.564989</td>\n",
       "      <td>settings: __AD_jaccard_threshold_0.9__AD_metho...</td>\n",
       "    </tr>\n",
       "    <tr>\n",
       "      <th>__AD_jaccard_threshold_0.9__AD_method_name_FPOF__AD_pattern_pruning_maximal__AD_relative_minsup_0.01__tune_False__</th>\n",
       "      <td>5.324</td>\n",
       "      <td>0.531634</td>\n",
       "      <td>settings: __AD_jaccard_threshold_0.9__AD_metho...</td>\n",
       "    </tr>\n",
       "  </tbody>\n",
       "</table>\n",
       "</div>"
      ],
      "text/plain": [
       "                                                    avg_rank  avg_AUROC  \\\n",
       "__AD_jaccard_threshold_0.9__AD_method_name_FPOF...     2.294   0.776992   \n",
       "__AD_jaccard_threshold_0.9__AD_method_name_FPOF...     2.324   0.781047   \n",
       "__AD_jaccard_threshold_0.9__AD_method_name_FPOF...     2.559   0.775152   \n",
       "__AD_jaccard_threshold_0.9__AD_method_name_FPOF...     4.088   0.620551   \n",
       "__AD_jaccard_threshold_0.9__AD_method_name_FPOF...     4.412   0.564989   \n",
       "__AD_jaccard_threshold_0.9__AD_method_name_FPOF...     5.324   0.531634   \n",
       "\n",
       "                                                                                             settings  \n",
       "__AD_jaccard_threshold_0.9__AD_method_name_FPOF...  settings: __AD_jaccard_threshold_0.9__AD_metho...  \n",
       "__AD_jaccard_threshold_0.9__AD_method_name_FPOF...  settings: __AD_jaccard_threshold_0.9__AD_metho...  \n",
       "__AD_jaccard_threshold_0.9__AD_method_name_FPOF...  settings: __AD_jaccard_threshold_0.9__AD_metho...  \n",
       "__AD_jaccard_threshold_0.9__AD_method_name_FPOF...  settings: __AD_jaccard_threshold_0.9__AD_metho...  \n",
       "__AD_jaccard_threshold_0.9__AD_method_name_FPOF...  settings: __AD_jaccard_threshold_0.9__AD_metho...  \n",
       "__AD_jaccard_threshold_0.9__AD_method_name_FPOF...  settings: __AD_jaccard_threshold_0.9__AD_metho...  "
      ]
     },
     "execution_count": 71,
     "metadata": {},
     "output_type": "execute_result"
    }
   ],
   "source": [
    "settings_results, nan_methods = find_best_settings_algorithm(results, {'method': 'FPOF'})\n",
    "settings_results"
   ]
  },
  {
   "cell_type": "code",
   "execution_count": 72,
   "metadata": {
    "ExecuteTime": {
     "end_time": "2019-06-27T15:17:28.380935Z",
     "start_time": "2019-06-27T15:17:28.342259Z"
    },
    "hidden": true
   },
   "outputs": [
    {
     "name": "stdout",
     "output_type": "stream",
     "text": [
      "WORKING METHOD:  __AD_method_name_MIFPOD__AD_relative_minsup_0.1__tune_False__\n"
     ]
    },
    {
     "data": {
      "text/html": [
       "<div>\n",
       "<style>\n",
       "    .dataframe thead tr:only-child th {\n",
       "        text-align: right;\n",
       "    }\n",
       "\n",
       "    .dataframe thead th {\n",
       "        text-align: left;\n",
       "    }\n",
       "\n",
       "    .dataframe tbody tr th {\n",
       "        vertical-align: top;\n",
       "    }\n",
       "</style>\n",
       "<table border=\"1\" class=\"dataframe\">\n",
       "  <thead>\n",
       "    <tr style=\"text-align: right;\">\n",
       "      <th></th>\n",
       "      <th>__AD_method_name_MIFPOD__AD_relative_minsup_0.01__tune_False__</th>\n",
       "      <th>__AD_method_name_MIFPOD__AD_relative_minsup_0.05__tune_False__</th>\n",
       "      <th>__AD_method_name_MIFPOD__AD_relative_minsup_0.1__tune_False__</th>\n",
       "    </tr>\n",
       "  </thead>\n",
       "  <tbody>\n",
       "    <tr>\n",
       "      <th>ambient_temperature</th>\n",
       "      <td>0.898504</td>\n",
       "      <td>0.996947</td>\n",
       "      <td>0.995574</td>\n",
       "    </tr>\n",
       "    <tr>\n",
       "      <th>colruyt_aalst_day</th>\n",
       "      <td>0.510741</td>\n",
       "      <td>0.473347</td>\n",
       "      <td>0.396930</td>\n",
       "    </tr>\n",
       "    <tr>\n",
       "      <th>colruyt_aalst_night</th>\n",
       "      <td>NaN</td>\n",
       "      <td>0.500000</td>\n",
       "      <td>0.517182</td>\n",
       "    </tr>\n",
       "    <tr>\n",
       "      <th>colruyt_aarschot_day</th>\n",
       "      <td>0.500000</td>\n",
       "      <td>0.336319</td>\n",
       "      <td>0.342539</td>\n",
       "    </tr>\n",
       "    <tr>\n",
       "      <th>colruyt_aarschot_night</th>\n",
       "      <td>NaN</td>\n",
       "      <td>0.525231</td>\n",
       "      <td>0.487273</td>\n",
       "    </tr>\n",
       "    <tr>\n",
       "      <th>colruyt_brasschaat_day</th>\n",
       "      <td>0.500000</td>\n",
       "      <td>0.507863</td>\n",
       "      <td>0.560052</td>\n",
       "    </tr>\n",
       "    <tr>\n",
       "      <th>colruyt_brasschaat_night</th>\n",
       "      <td>NaN</td>\n",
       "      <td>0.500000</td>\n",
       "      <td>0.249328</td>\n",
       "    </tr>\n",
       "    <tr>\n",
       "      <th>colruyt_hasselt_day</th>\n",
       "      <td>NaN</td>\n",
       "      <td>0.500000</td>\n",
       "      <td>0.565211</td>\n",
       "    </tr>\n",
       "    <tr>\n",
       "      <th>colruyt_hasselt_night</th>\n",
       "      <td>NaN</td>\n",
       "      <td>0.500000</td>\n",
       "      <td>0.523733</td>\n",
       "    </tr>\n",
       "    <tr>\n",
       "      <th>colruyt_heverlee_day</th>\n",
       "      <td>0.514879</td>\n",
       "      <td>0.579236</td>\n",
       "      <td>0.596459</td>\n",
       "    </tr>\n",
       "    <tr>\n",
       "      <th>colruyt_heverlee_night</th>\n",
       "      <td>NaN</td>\n",
       "      <td>0.500000</td>\n",
       "      <td>0.497203</td>\n",
       "    </tr>\n",
       "    <tr>\n",
       "      <th>colruyt_mol_day</th>\n",
       "      <td>0.401684</td>\n",
       "      <td>0.426444</td>\n",
       "      <td>0.411280</td>\n",
       "    </tr>\n",
       "    <tr>\n",
       "      <th>colruyt_mol_night</th>\n",
       "      <td>0.484292</td>\n",
       "      <td>0.355513</td>\n",
       "      <td>0.352993</td>\n",
       "    </tr>\n",
       "    <tr>\n",
       "      <th>colruyt_roodebeek_day</th>\n",
       "      <td>0.500000</td>\n",
       "      <td>0.484538</td>\n",
       "      <td>0.499494</td>\n",
       "    </tr>\n",
       "    <tr>\n",
       "      <th>colruyt_roodebeek_night</th>\n",
       "      <td>NaN</td>\n",
       "      <td>NaN</td>\n",
       "      <td>0.500000</td>\n",
       "    </tr>\n",
       "    <tr>\n",
       "      <th>new_york_taxi</th>\n",
       "      <td>0.649204</td>\n",
       "      <td>0.705161</td>\n",
       "      <td>0.845605</td>\n",
       "    </tr>\n",
       "    <tr>\n",
       "      <th>request_latency</th>\n",
       "      <td>0.440028</td>\n",
       "      <td>0.466666</td>\n",
       "      <td>0.444617</td>\n",
       "    </tr>\n",
       "  </tbody>\n",
       "</table>\n",
       "</div>"
      ],
      "text/plain": [
       "                          __AD_method_name_MIFPOD__AD_relative_minsup_0.01__tune_False__  \\\n",
       "ambient_temperature                                                0.898504                \n",
       "colruyt_aalst_day                                                  0.510741                \n",
       "colruyt_aalst_night                                                     NaN                \n",
       "colruyt_aarschot_day                                               0.500000                \n",
       "colruyt_aarschot_night                                                  NaN                \n",
       "colruyt_brasschaat_day                                             0.500000                \n",
       "colruyt_brasschaat_night                                                NaN                \n",
       "colruyt_hasselt_day                                                     NaN                \n",
       "colruyt_hasselt_night                                                   NaN                \n",
       "colruyt_heverlee_day                                               0.514879                \n",
       "colruyt_heverlee_night                                                  NaN                \n",
       "colruyt_mol_day                                                    0.401684                \n",
       "colruyt_mol_night                                                  0.484292                \n",
       "colruyt_roodebeek_day                                              0.500000                \n",
       "colruyt_roodebeek_night                                                 NaN                \n",
       "new_york_taxi                                                      0.649204                \n",
       "request_latency                                                    0.440028                \n",
       "\n",
       "                          __AD_method_name_MIFPOD__AD_relative_minsup_0.05__tune_False__  \\\n",
       "ambient_temperature                                                0.996947                \n",
       "colruyt_aalst_day                                                  0.473347                \n",
       "colruyt_aalst_night                                                0.500000                \n",
       "colruyt_aarschot_day                                               0.336319                \n",
       "colruyt_aarschot_night                                             0.525231                \n",
       "colruyt_brasschaat_day                                             0.507863                \n",
       "colruyt_brasschaat_night                                           0.500000                \n",
       "colruyt_hasselt_day                                                0.500000                \n",
       "colruyt_hasselt_night                                              0.500000                \n",
       "colruyt_heverlee_day                                               0.579236                \n",
       "colruyt_heverlee_night                                             0.500000                \n",
       "colruyt_mol_day                                                    0.426444                \n",
       "colruyt_mol_night                                                  0.355513                \n",
       "colruyt_roodebeek_day                                              0.484538                \n",
       "colruyt_roodebeek_night                                                 NaN                \n",
       "new_york_taxi                                                      0.705161                \n",
       "request_latency                                                    0.466666                \n",
       "\n",
       "                          __AD_method_name_MIFPOD__AD_relative_minsup_0.1__tune_False__  \n",
       "ambient_temperature                                                0.995574              \n",
       "colruyt_aalst_day                                                  0.396930              \n",
       "colruyt_aalst_night                                                0.517182              \n",
       "colruyt_aarschot_day                                               0.342539              \n",
       "colruyt_aarschot_night                                             0.487273              \n",
       "colruyt_brasschaat_day                                             0.560052              \n",
       "colruyt_brasschaat_night                                           0.249328              \n",
       "colruyt_hasselt_day                                                0.565211              \n",
       "colruyt_hasselt_night                                              0.523733              \n",
       "colruyt_heverlee_day                                               0.596459              \n",
       "colruyt_heverlee_night                                             0.497203              \n",
       "colruyt_mol_day                                                    0.411280              \n",
       "colruyt_mol_night                                                  0.352993              \n",
       "colruyt_roodebeek_day                                              0.499494              \n",
       "colruyt_roodebeek_night                                            0.500000              \n",
       "new_york_taxi                                                      0.845605              \n",
       "request_latency                                                    0.444617              "
      ]
     },
     "execution_count": 72,
     "metadata": {},
     "output_type": "execute_result"
    }
   ],
   "source": [
    "settings_results, nan_methods = find_best_settings_algorithm(results, {'method': 'MIFPOD'})\n",
    "settings_results"
   ]
  },
  {
   "cell_type": "markdown",
   "metadata": {
    "heading_collapsed": true
   },
   "source": [
    "## PBAD: feasible parameter settings across the entire benchmark"
   ]
  },
  {
   "cell_type": "code",
   "execution_count": 24,
   "metadata": {
    "ExecuteTime": {
     "end_time": "2019-06-28T15:15:39.610041Z",
     "start_time": "2019-06-28T15:15:39.536132Z"
    },
    "hidden": true
   },
   "outputs": [
    {
     "name": "stdout",
     "output_type": "stream",
     "text": [
      "Index(['__AD_distance_formula_1.0__AD_exact_match_False__AD_jaccard_threshold_0.9__AD_method_name_PBAD__AD_pattern_match_discrete_False__AD_pattern_pruning_closed__AD_pattern_type_all__AD_relative_minsup_0.01__AD_sequential_minlength_1.0__tune_False__',\n",
      "       '__AD_distance_formula_1.0__AD_exact_match_False__AD_jaccard_threshold_0.9__AD_method_name_PBAD__AD_pattern_match_discrete_False__AD_pattern_pruning_closed__AD_pattern_type_all__AD_relative_minsup_0.01__AD_sequential_minlength_2.0__tune_False__',\n",
      "       '__AD_distance_formula_1.0__AD_exact_match_False__AD_jaccard_threshold_0.9__AD_method_name_PBAD__AD_pattern_match_discrete_False__AD_pattern_pruning_closed__AD_pattern_type_sequential__AD_relative_minsup_0.01__AD_sequential_minlength_1.0__tune_False__',\n",
      "       '__AD_distance_formula_1.0__AD_exact_match_False__AD_jaccard_threshold_0.9__AD_method_name_PBAD__AD_pattern_match_discrete_False__AD_pattern_pruning_closed__AD_pattern_type_sequential__AD_relative_minsup_0.01__AD_sequential_minlength_2.0__tune_False__'],\n",
      "      dtype='object')\n"
     ]
    },
    {
     "data": {
      "text/html": [
       "<div>\n",
       "<style>\n",
       "    .dataframe thead tr:only-child th {\n",
       "        text-align: right;\n",
       "    }\n",
       "\n",
       "    .dataframe thead th {\n",
       "        text-align: left;\n",
       "    }\n",
       "\n",
       "    .dataframe tbody tr th {\n",
       "        vertical-align: top;\n",
       "    }\n",
       "</style>\n",
       "<table border=\"1\" class=\"dataframe\">\n",
       "  <thead>\n",
       "    <tr style=\"text-align: right;\">\n",
       "      <th></th>\n",
       "      <th>avg_rank</th>\n",
       "      <th>avg_AUROC</th>\n",
       "      <th>settings</th>\n",
       "    </tr>\n",
       "  </thead>\n",
       "  <tbody>\n",
       "    <tr>\n",
       "      <th>__AD_distance_formula_1.0__AD_exact_match_False__AD_jaccard_threshold_0.9__AD_method_name_PBAD__AD_pattern_match_discrete_False__AD_pattern_pruning_closed__AD_pattern_type_itemset__AD_relative_minsup_0.01__AD_sequential_minlength_1.0__tune_False__</th>\n",
       "      <td>2.412</td>\n",
       "      <td>0.793056</td>\n",
       "      <td>settings: __AD_distance_formula_1.0__AD_exact_...</td>\n",
       "    </tr>\n",
       "    <tr>\n",
       "      <th>__AD_distance_formula_1.0__AD_exact_match_False__AD_jaccard_threshold_0.9__AD_method_name_PBAD__AD_pattern_match_discrete_False__AD_pattern_pruning_closed__AD_pattern_type_itemset__AD_relative_minsup_0.01__AD_sequential_minlength_2.0__tune_False__</th>\n",
       "      <td>2.471</td>\n",
       "      <td>0.792397</td>\n",
       "      <td>settings: __AD_distance_formula_1.0__AD_exact_...</td>\n",
       "    </tr>\n",
       "    <tr>\n",
       "      <th>__AD_distance_formula_1.0__AD_exact_match_False__AD_jaccard_threshold_0.9__AD_method_name_PBAD__AD_pattern_match_discrete_False__AD_pattern_pruning_closed__AD_pattern_type_raw__AD_relative_minsup_0.01__AD_sequential_minlength_1.0__tune_False__</th>\n",
       "      <td>2.500</td>\n",
       "      <td>0.803941</td>\n",
       "      <td>settings: __AD_distance_formula_1.0__AD_exact_...</td>\n",
       "    </tr>\n",
       "    <tr>\n",
       "      <th>__AD_distance_formula_1.0__AD_exact_match_False__AD_jaccard_threshold_0.9__AD_method_name_PBAD__AD_pattern_match_discrete_False__AD_pattern_pruning_closed__AD_pattern_type_raw__AD_relative_minsup_0.01__AD_sequential_minlength_2.0__tune_False__</th>\n",
       "      <td>2.618</td>\n",
       "      <td>0.803144</td>\n",
       "      <td>settings: __AD_distance_formula_1.0__AD_exact_...</td>\n",
       "    </tr>\n",
       "  </tbody>\n",
       "</table>\n",
       "</div>"
      ],
      "text/plain": [
       "                                                    avg_rank  avg_AUROC  \\\n",
       "__AD_distance_formula_1.0__AD_exact_match_False...     2.412   0.793056   \n",
       "__AD_distance_formula_1.0__AD_exact_match_False...     2.471   0.792397   \n",
       "__AD_distance_formula_1.0__AD_exact_match_False...     2.500   0.803941   \n",
       "__AD_distance_formula_1.0__AD_exact_match_False...     2.618   0.803144   \n",
       "\n",
       "                                                                                             settings  \n",
       "__AD_distance_formula_1.0__AD_exact_match_False...  settings: __AD_distance_formula_1.0__AD_exact_...  \n",
       "__AD_distance_formula_1.0__AD_exact_match_False...  settings: __AD_distance_formula_1.0__AD_exact_...  \n",
       "__AD_distance_formula_1.0__AD_exact_match_False...  settings: __AD_distance_formula_1.0__AD_exact_...  \n",
       "__AD_distance_formula_1.0__AD_exact_match_False...  settings: __AD_distance_formula_1.0__AD_exact_...  "
      ]
     },
     "execution_count": 24,
     "metadata": {},
     "output_type": "execute_result"
    }
   ],
   "source": [
    "settings_results, nan_methods = find_feasible_settings_algorithm(results, {'method': 'PBAD'})\n",
    "print(nan_methods)\n",
    "settings_results"
   ]
  },
  {
   "cell_type": "markdown",
   "metadata": {
    "heading_collapsed": true
   },
   "source": [
    "## Horse-race results for each dataset - ORACLE for the baselines + feasible, fixed settings for PBAD"
   ]
  },
  {
   "cell_type": "code",
   "execution_count": 14,
   "metadata": {
    "ExecuteTime": {
     "end_time": "2019-06-28T15:26:25.453582Z",
     "start_time": "2019-06-28T15:26:25.431026Z"
    },
    "hidden": true
   },
   "outputs": [],
   "source": [
    "methods = OrderedDict([\n",
    "    ('MP', {'method': 'MPAD', 'AD_settings': 'oracle'}),\n",
    "    ('PAV', {'method': 'PAV', 'AD_settings': 'oracle'}),\n",
    "    #('MIFPOD', {'method': 'MIFPOD', 'AD_settings': '__AD_method_name_MIFPOD__AD_relative_minsup_0.1__tune_False__'}),\n",
    "    ('MIFPOD', {'method': 'MIFPOD', 'AD_settings': 'oracle'}),\n",
    "    #('FPOF', {'method': 'FPOF', 'AD_settings': '__AD_jaccard_threshold_0.9__AD_method_name_FPOF__AD_pattern_pruning_closed__AD_relative_minsup_0.1__tune_False__'}),\n",
    "    ('FPOF', {'method': 'FPOF', 'AD_settings': 'oracle'}),\n",
    "    #('PBAD', {'method': 'PBAD', 'AD_settings': '__AD_exact_match_False__AD_jaccard_threshold_0.9__AD_method_name_PBAD__AD_pattern_match_discrete_False__AD_pattern_pruning_closed__AD_pattern_type_all__AD_relative_minsup_0.01__AD_sequential_minlength_1.0__tune_False__'}),\n",
    "    ('PBAD', {'method': 'PBAD', 'AD_settings': '__AD_distance_formula_1.0__AD_exact_match_False__AD_jaccard_threshold_0.9__AD_method_name_PBAD__AD_pattern_match_discrete_False__AD_pattern_pruning_closed__AD_pattern_type_all__AD_relative_minsup_0.01__AD_sequential_minlength_1.0__tune_False__'}),\n",
    "])"
   ]
  },
  {
   "cell_type": "markdown",
   "metadata": {
    "hidden": true
   },
   "source": [
    "### AUROC and AP"
   ]
  },
  {
   "cell_type": "code",
   "execution_count": 15,
   "metadata": {
    "ExecuteTime": {
     "end_time": "2019-06-28T15:26:26.618536Z",
     "start_time": "2019-06-28T15:26:26.525915Z"
    },
    "hidden": true
   },
   "outputs": [
    {
     "name": "stdout",
     "output_type": "stream",
     "text": [
      "ORACLE selects best settings for: MPAD\n",
      "ORACLE selects best settings for: PAV\n",
      "ORACLE selects best settings for: MIFPOD\n",
      "ORACLE selects best settings for: FPOF\n"
     ]
    },
    {
     "data": {
      "text/html": [
       "<div>\n",
       "<style>\n",
       "    .dataframe thead tr:only-child th {\n",
       "        text-align: right;\n",
       "    }\n",
       "\n",
       "    .dataframe thead th {\n",
       "        text-align: left;\n",
       "    }\n",
       "\n",
       "    .dataframe tbody tr th {\n",
       "        vertical-align: top;\n",
       "    }\n",
       "</style>\n",
       "<table border=\"1\" class=\"dataframe\">\n",
       "  <thead>\n",
       "    <tr style=\"text-align: right;\">\n",
       "      <th></th>\n",
       "      <th>MP</th>\n",
       "      <th>PAV</th>\n",
       "      <th>MIFPOD</th>\n",
       "      <th>FPOF</th>\n",
       "      <th>PBAD</th>\n",
       "    </tr>\n",
       "  </thead>\n",
       "  <tbody>\n",
       "    <tr>\n",
       "      <th>ambient_temperature</th>\n",
       "      <td>0.240</td>\n",
       "      <td>0.590</td>\n",
       "      <td>0.997</td>\n",
       "      <td>0.999</td>\n",
       "      <td>0.998</td>\n",
       "    </tr>\n",
       "    <tr>\n",
       "      <th>new_york_taxi</th>\n",
       "      <td>0.861</td>\n",
       "      <td>0.281</td>\n",
       "      <td>0.846</td>\n",
       "      <td>0.877</td>\n",
       "      <td>0.879</td>\n",
       "    </tr>\n",
       "    <tr>\n",
       "      <th>request_latency</th>\n",
       "      <td>0.599</td>\n",
       "      <td>0.608</td>\n",
       "      <td>0.467</td>\n",
       "      <td>0.493</td>\n",
       "      <td>0.553</td>\n",
       "    </tr>\n",
       "    <tr>\n",
       "      <th>colruyt_aalst</th>\n",
       "      <td>0.656</td>\n",
       "      <td>0.482</td>\n",
       "      <td>0.514</td>\n",
       "      <td>0.825</td>\n",
       "      <td>0.884</td>\n",
       "    </tr>\n",
       "    <tr>\n",
       "      <th>colruyt_aarschot</th>\n",
       "      <td>0.600</td>\n",
       "      <td>0.520</td>\n",
       "      <td>0.513</td>\n",
       "      <td>0.857</td>\n",
       "      <td>0.945</td>\n",
       "    </tr>\n",
       "    <tr>\n",
       "      <th>colruyt_hasselt</th>\n",
       "      <td>0.536</td>\n",
       "      <td>0.457</td>\n",
       "      <td>0.544</td>\n",
       "      <td>0.671</td>\n",
       "      <td>0.605</td>\n",
       "    </tr>\n",
       "    <tr>\n",
       "      <th>colruyt_heverlee</th>\n",
       "      <td>0.675</td>\n",
       "      <td>0.579</td>\n",
       "      <td>0.548</td>\n",
       "      <td>0.613</td>\n",
       "      <td>0.721</td>\n",
       "    </tr>\n",
       "    <tr>\n",
       "      <th>colruyt_mol</th>\n",
       "      <td>0.444</td>\n",
       "      <td>0.581</td>\n",
       "      <td>0.455</td>\n",
       "      <td>0.790</td>\n",
       "      <td>0.960</td>\n",
       "    </tr>\n",
       "    <tr>\n",
       "      <th>colruyt_roodebeek</th>\n",
       "      <td>0.682</td>\n",
       "      <td>0.609</td>\n",
       "      <td>0.500</td>\n",
       "      <td>0.874</td>\n",
       "      <td>0.752</td>\n",
       "    </tr>\n",
       "    <tr>\n",
       "      <th>average_metric</th>\n",
       "      <td>0.588</td>\n",
       "      <td>0.523</td>\n",
       "      <td>0.598</td>\n",
       "      <td>0.778</td>\n",
       "      <td>0.811</td>\n",
       "    </tr>\n",
       "    <tr>\n",
       "      <th>number_of_wins</th>\n",
       "      <td>0.000</td>\n",
       "      <td>1.000</td>\n",
       "      <td>0.000</td>\n",
       "      <td>3.000</td>\n",
       "      <td>5.000</td>\n",
       "    </tr>\n",
       "    <tr>\n",
       "      <th>average_rank</th>\n",
       "      <td>3.333</td>\n",
       "      <td>3.889</td>\n",
       "      <td>4.167</td>\n",
       "      <td>2.000</td>\n",
       "      <td>1.611</td>\n",
       "    </tr>\n",
       "  </tbody>\n",
       "</table>\n",
       "</div>"
      ],
      "text/plain": [
       "                        MP    PAV  MIFPOD   FPOF   PBAD\n",
       "ambient_temperature  0.240  0.590   0.997  0.999  0.998\n",
       "new_york_taxi        0.861  0.281   0.846  0.877  0.879\n",
       "request_latency      0.599  0.608   0.467  0.493  0.553\n",
       "colruyt_aalst        0.656  0.482   0.514  0.825  0.884\n",
       "colruyt_aarschot     0.600  0.520   0.513  0.857  0.945\n",
       "colruyt_hasselt      0.536  0.457   0.544  0.671  0.605\n",
       "colruyt_heverlee     0.675  0.579   0.548  0.613  0.721\n",
       "colruyt_mol          0.444  0.581   0.455  0.790  0.960\n",
       "colruyt_roodebeek    0.682  0.609   0.500  0.874  0.752\n",
       "average_metric       0.588  0.523   0.598  0.778  0.811\n",
       "number_of_wins       0.000  1.000   0.000  3.000  5.000\n",
       "average_rank         3.333  3.889   4.167  2.000  1.611"
      ]
     },
     "execution_count": 15,
     "metadata": {},
     "output_type": "execute_result"
    }
   ],
   "source": [
    "# get matrix with the results\n",
    "matrix, oracle_settings = construct_results_matrix(results, methods, metric='auroc')\n",
    "\n",
    "# combine the night and day of Colruyt stores + add the average metric + the rank + the number of wins\n",
    "matrix = adjust_results_matrix(matrix, drop=True)\n",
    "\n",
    "# AUROC results: round to 3 numbers\n",
    "matrix.astype(float).round(3)"
   ]
  },
  {
   "cell_type": "code",
   "execution_count": 16,
   "metadata": {
    "ExecuteTime": {
     "end_time": "2019-06-28T15:26:28.105787Z",
     "start_time": "2019-06-28T15:26:28.085939Z"
    },
    "hidden": true
   },
   "outputs": [
    {
     "name": "stdout",
     "output_type": "stream",
     "text": [
      "Mean one-up: 1.42896441608 - STD one-up: 10.621566421\n"
     ]
    }
   ],
   "source": [
    "# average increase in metric for PBAD over the nearest competitor\n",
    "auc_values = matrix.values\n",
    "pbad_aucs = auc_values[:, -1][:-3]\n",
    "closest_comp = np.max(auc_values[:, :-1], axis=1)[:-3]\n",
    "one_up = (pbad_aucs - closest_comp) / closest_comp * 100\n",
    "print('Mean one-up:', np.mean(one_up), '- STD one-up:', np.std(one_up))"
   ]
  },
  {
   "cell_type": "code",
   "execution_count": 17,
   "metadata": {
    "ExecuteTime": {
     "end_time": "2019-06-28T15:26:28.936997Z",
     "start_time": "2019-06-28T15:26:28.843223Z"
    },
    "hidden": true
   },
   "outputs": [
    {
     "name": "stdout",
     "output_type": "stream",
     "text": [
      "ORACLE selects best settings for: MPAD\n",
      "ORACLE selects best settings for: PAV\n",
      "ORACLE selects best settings for: MIFPOD\n",
      "ORACLE selects best settings for: FPOF\n"
     ]
    },
    {
     "data": {
      "text/html": [
       "<div>\n",
       "<style>\n",
       "    .dataframe thead tr:only-child th {\n",
       "        text-align: right;\n",
       "    }\n",
       "\n",
       "    .dataframe thead th {\n",
       "        text-align: left;\n",
       "    }\n",
       "\n",
       "    .dataframe tbody tr th {\n",
       "        vertical-align: top;\n",
       "    }\n",
       "</style>\n",
       "<table border=\"1\" class=\"dataframe\">\n",
       "  <thead>\n",
       "    <tr style=\"text-align: right;\">\n",
       "      <th></th>\n",
       "      <th>MP</th>\n",
       "      <th>PAV</th>\n",
       "      <th>MIFPOD</th>\n",
       "      <th>FPOF</th>\n",
       "      <th>PBAD</th>\n",
       "    </tr>\n",
       "  </thead>\n",
       "  <tbody>\n",
       "    <tr>\n",
       "      <th>ambient_temperature</th>\n",
       "      <td>0.014</td>\n",
       "      <td>0.040</td>\n",
       "      <td>0.917</td>\n",
       "      <td>0.957</td>\n",
       "      <td>0.917</td>\n",
       "    </tr>\n",
       "    <tr>\n",
       "      <th>new_york_taxi</th>\n",
       "      <td>0.214</td>\n",
       "      <td>0.057</td>\n",
       "      <td>0.300</td>\n",
       "      <td>0.403</td>\n",
       "      <td>0.453</td>\n",
       "    </tr>\n",
       "    <tr>\n",
       "      <th>request_latency</th>\n",
       "      <td>0.515</td>\n",
       "      <td>0.361</td>\n",
       "      <td>0.255</td>\n",
       "      <td>0.296</td>\n",
       "      <td>0.382</td>\n",
       "    </tr>\n",
       "    <tr>\n",
       "      <th>colruyt_aalst</th>\n",
       "      <td>0.499</td>\n",
       "      <td>0.301</td>\n",
       "      <td>0.328</td>\n",
       "      <td>0.812</td>\n",
       "      <td>0.821</td>\n",
       "    </tr>\n",
       "    <tr>\n",
       "      <th>colruyt_aarschot</th>\n",
       "      <td>0.353</td>\n",
       "      <td>0.127</td>\n",
       "      <td>0.094</td>\n",
       "      <td>0.688</td>\n",
       "      <td>0.862</td>\n",
       "    </tr>\n",
       "    <tr>\n",
       "      <th>colruyt_hasselt</th>\n",
       "      <td>0.126</td>\n",
       "      <td>0.121</td>\n",
       "      <td>0.079</td>\n",
       "      <td>0.350</td>\n",
       "      <td>0.233</td>\n",
       "    </tr>\n",
       "    <tr>\n",
       "      <th>colruyt_heverlee</th>\n",
       "      <td>0.774</td>\n",
       "      <td>0.687</td>\n",
       "      <td>0.700</td>\n",
       "      <td>0.817</td>\n",
       "      <td>0.808</td>\n",
       "    </tr>\n",
       "    <tr>\n",
       "      <th>colruyt_mol</th>\n",
       "      <td>0.199</td>\n",
       "      <td>0.243</td>\n",
       "      <td>0.111</td>\n",
       "      <td>0.671</td>\n",
       "      <td>0.906</td>\n",
       "    </tr>\n",
       "    <tr>\n",
       "      <th>colruyt_roodebeek</th>\n",
       "      <td>0.578</td>\n",
       "      <td>0.431</td>\n",
       "      <td>0.228</td>\n",
       "      <td>0.692</td>\n",
       "      <td>0.551</td>\n",
       "    </tr>\n",
       "    <tr>\n",
       "      <th>average_metric</th>\n",
       "      <td>0.364</td>\n",
       "      <td>0.263</td>\n",
       "      <td>0.335</td>\n",
       "      <td>0.632</td>\n",
       "      <td>0.659</td>\n",
       "    </tr>\n",
       "    <tr>\n",
       "      <th>number_of_wins</th>\n",
       "      <td>1.000</td>\n",
       "      <td>0.000</td>\n",
       "      <td>0.000</td>\n",
       "      <td>4.000</td>\n",
       "      <td>4.000</td>\n",
       "    </tr>\n",
       "    <tr>\n",
       "      <th>average_rank</th>\n",
       "      <td>3.111</td>\n",
       "      <td>4.111</td>\n",
       "      <td>4.278</td>\n",
       "      <td>1.778</td>\n",
       "      <td>1.722</td>\n",
       "    </tr>\n",
       "  </tbody>\n",
       "</table>\n",
       "</div>"
      ],
      "text/plain": [
       "                        MP    PAV  MIFPOD   FPOF   PBAD\n",
       "ambient_temperature  0.014  0.040   0.917  0.957  0.917\n",
       "new_york_taxi        0.214  0.057   0.300  0.403  0.453\n",
       "request_latency      0.515  0.361   0.255  0.296  0.382\n",
       "colruyt_aalst        0.499  0.301   0.328  0.812  0.821\n",
       "colruyt_aarschot     0.353  0.127   0.094  0.688  0.862\n",
       "colruyt_hasselt      0.126  0.121   0.079  0.350  0.233\n",
       "colruyt_heverlee     0.774  0.687   0.700  0.817  0.808\n",
       "colruyt_mol          0.199  0.243   0.111  0.671  0.906\n",
       "colruyt_roodebeek    0.578  0.431   0.228  0.692  0.551\n",
       "average_metric       0.364  0.263   0.335  0.632  0.659\n",
       "number_of_wins       1.000  0.000   0.000  4.000  4.000\n",
       "average_rank         3.111  4.111   4.278  1.778  1.722"
      ]
     },
     "execution_count": 17,
     "metadata": {},
     "output_type": "execute_result"
    }
   ],
   "source": [
    "# get matrix with the results\n",
    "matrix, oracle_settings = construct_results_matrix(results, methods, metric='ap')\n",
    "\n",
    "# combine the night and day of Colruyt stores + add the average metric + the rank + the number of wins\n",
    "matrix = adjust_results_matrix(matrix, drop=True)\n",
    "\n",
    "# AUROC results: round to 3 numbers\n",
    "matrix.astype(float).round(3)"
   ]
  },
  {
   "cell_type": "code",
   "execution_count": 18,
   "metadata": {
    "ExecuteTime": {
     "end_time": "2019-06-28T15:26:29.500115Z",
     "start_time": "2019-06-28T15:26:29.479333Z"
    },
    "hidden": true
   },
   "outputs": [
    {
     "name": "stdout",
     "output_type": "stream",
     "text": [
      "Mean one-up: -1.24387275817 - STD one-up: 21.6225668001\n"
     ]
    }
   ],
   "source": [
    "# average increase in metric for PBAD over the nearest competitor\n",
    "auc_values = matrix.values\n",
    "pbad_aucs = auc_values[:, -1][:-3]\n",
    "closest_comp = np.max(auc_values[:, :-1], axis=1)[:-3]\n",
    "one_up = (pbad_aucs - closest_comp) / closest_comp * 100\n",
    "print('Mean one-up:', np.mean(one_up), '- STD one-up:', np.std(one_up))"
   ]
  },
  {
   "cell_type": "markdown",
   "metadata": {
    "heading_collapsed": true,
    "hidden": true
   },
   "source": [
    "### ECML-PKDD first submission (not camera-ready)"
   ]
  },
  {
   "cell_type": "code",
   "execution_count": 165,
   "metadata": {
    "ExecuteTime": {
     "end_time": "2019-06-27T16:01:08.463046Z",
     "start_time": "2019-06-27T16:01:08.371514Z"
    },
    "hidden": true,
    "scrolled": false
   },
   "outputs": [
    {
     "name": "stdout",
     "output_type": "stream",
     "text": [
      "ORACLE selects best settings for: MatrixProfileAD\n",
      "ORACLE selects best settings for: PAV\n",
      "ORACLE selects best settings for: MIFPOD\n",
      "ORACLE selects best settings for: FPOF\n"
     ]
    },
    {
     "data": {
      "text/html": [
       "<div>\n",
       "<style>\n",
       "    .dataframe thead tr:only-child th {\n",
       "        text-align: right;\n",
       "    }\n",
       "\n",
       "    .dataframe thead th {\n",
       "        text-align: left;\n",
       "    }\n",
       "\n",
       "    .dataframe tbody tr th {\n",
       "        vertical-align: top;\n",
       "    }\n",
       "</style>\n",
       "<table border=\"1\" class=\"dataframe\">\n",
       "  <thead>\n",
       "    <tr style=\"text-align: right;\">\n",
       "      <th></th>\n",
       "      <th>MPAD</th>\n",
       "      <th>PAV</th>\n",
       "      <th>MIFPOD</th>\n",
       "      <th>FPOF</th>\n",
       "      <th>PBAD</th>\n",
       "    </tr>\n",
       "  </thead>\n",
       "  <tbody>\n",
       "    <tr>\n",
       "      <th>ambient_temperature</th>\n",
       "      <td>0.452</td>\n",
       "      <td>0.584</td>\n",
       "      <td>0.974</td>\n",
       "      <td>0.999</td>\n",
       "      <td>0.998</td>\n",
       "    </tr>\n",
       "    <tr>\n",
       "      <th>new_york_taxi</th>\n",
       "      <td>0.648</td>\n",
       "      <td>0.304</td>\n",
       "      <td>0.526</td>\n",
       "      <td>0.877</td>\n",
       "      <td>0.850</td>\n",
       "    </tr>\n",
       "    <tr>\n",
       "      <th>request_latency</th>\n",
       "      <td>0.530</td>\n",
       "      <td>0.621</td>\n",
       "      <td>0.406</td>\n",
       "      <td>0.493</td>\n",
       "      <td>0.553</td>\n",
       "    </tr>\n",
       "    <tr>\n",
       "      <th>colruyt_aalst</th>\n",
       "      <td>0.720</td>\n",
       "      <td>0.767</td>\n",
       "      <td>0.442</td>\n",
       "      <td>0.826</td>\n",
       "      <td>0.942</td>\n",
       "    </tr>\n",
       "    <tr>\n",
       "      <th>colruyt_aarschot</th>\n",
       "      <td>0.742</td>\n",
       "      <td>0.796</td>\n",
       "      <td>0.399</td>\n",
       "      <td>0.857</td>\n",
       "      <td>0.941</td>\n",
       "    </tr>\n",
       "    <tr>\n",
       "      <th>colruyt_hasselt</th>\n",
       "      <td>0.470</td>\n",
       "      <td>0.469</td>\n",
       "      <td>0.530</td>\n",
       "      <td>0.677</td>\n",
       "      <td>0.842</td>\n",
       "    </tr>\n",
       "    <tr>\n",
       "      <th>colruyt_heverlee</th>\n",
       "      <td>0.650</td>\n",
       "      <td>0.685</td>\n",
       "      <td>0.552</td>\n",
       "      <td>0.614</td>\n",
       "      <td>0.841</td>\n",
       "    </tr>\n",
       "    <tr>\n",
       "      <th>colruyt_mol</th>\n",
       "      <td>0.584</td>\n",
       "      <td>0.599</td>\n",
       "      <td>0.332</td>\n",
       "      <td>0.790</td>\n",
       "      <td>0.930</td>\n",
       "    </tr>\n",
       "    <tr>\n",
       "      <th>colruyt_roodebeek</th>\n",
       "      <td>0.558</td>\n",
       "      <td>0.676</td>\n",
       "      <td>0.448</td>\n",
       "      <td>0.876</td>\n",
       "      <td>0.836</td>\n",
       "    </tr>\n",
       "    <tr>\n",
       "      <th>average_metric</th>\n",
       "      <td>0.595</td>\n",
       "      <td>0.611</td>\n",
       "      <td>0.512</td>\n",
       "      <td>0.779</td>\n",
       "      <td>0.859</td>\n",
       "    </tr>\n",
       "    <tr>\n",
       "      <th>number_of_wins</th>\n",
       "      <td>0.000</td>\n",
       "      <td>1.000</td>\n",
       "      <td>0.000</td>\n",
       "      <td>3.000</td>\n",
       "      <td>5.000</td>\n",
       "    </tr>\n",
       "    <tr>\n",
       "      <th>average_rank</th>\n",
       "      <td>3.778</td>\n",
       "      <td>3.222</td>\n",
       "      <td>4.444</td>\n",
       "      <td>2.167</td>\n",
       "      <td>1.389</td>\n",
       "    </tr>\n",
       "  </tbody>\n",
       "</table>\n",
       "</div>"
      ],
      "text/plain": [
       "                      MPAD    PAV  MIFPOD   FPOF   PBAD\n",
       "ambient_temperature  0.452  0.584   0.974  0.999  0.998\n",
       "new_york_taxi        0.648  0.304   0.526  0.877  0.850\n",
       "request_latency      0.530  0.621   0.406  0.493  0.553\n",
       "colruyt_aalst        0.720  0.767   0.442  0.826  0.942\n",
       "colruyt_aarschot     0.742  0.796   0.399  0.857  0.941\n",
       "colruyt_hasselt      0.470  0.469   0.530  0.677  0.842\n",
       "colruyt_heverlee     0.650  0.685   0.552  0.614  0.841\n",
       "colruyt_mol          0.584  0.599   0.332  0.790  0.930\n",
       "colruyt_roodebeek    0.558  0.676   0.448  0.876  0.836\n",
       "average_metric       0.595  0.611   0.512  0.779  0.859\n",
       "number_of_wins       0.000  1.000   0.000  3.000  5.000\n",
       "average_rank         3.778  3.222   4.444  2.167  1.389"
      ]
     },
     "execution_count": 165,
     "metadata": {},
     "output_type": "execute_result"
    }
   ],
   "source": [
    "# get matrix with the results\n",
    "matrix, oracle_settings = construct_results_matrix(results, methods, metric='auroc')\n",
    "\n",
    "# combine the night and day of Colruyt stores + add the average metric + the rank + the number of wins\n",
    "matrix = adjust_results_matrix(matrix, drop=True)\n",
    "\n",
    "# AUROC results: round to 3 numbers\n",
    "matrix.astype(float).round(3)"
   ]
  },
  {
   "cell_type": "markdown",
   "metadata": {
    "heading_collapsed": true
   },
   "source": [
    "## Comparing variations of PBAD"
   ]
  },
  {
   "cell_type": "code",
   "execution_count": 19,
   "metadata": {
    "ExecuteTime": {
     "end_time": "2019-06-28T15:27:36.083583Z",
     "start_time": "2019-06-28T15:27:35.655462Z"
    },
    "hidden": true
   },
   "outputs": [],
   "source": [
    "methods = OrderedDict([\n",
    "    ('PBAD-exact', {'method': 'PBAD', 'AD_settings': '__AD_distance_formula_1.0__AD_exact_match_False__AD_jaccard_threshold_0.9__AD_method_name_PBAD__AD_pattern_match_discrete_False__AD_pattern_pruning_closed__AD_pattern_type_all__AD_relative_minsup_0.01__AD_sequential_minlength_1.0__tune_False__'}),\n",
    "    ('PBAD', {'method': 'PBAD', 'AD_settings': '__AD_distance_formula_1.0__AD_exact_match_False__AD_jaccard_threshold_0.9__AD_method_name_PBAD__AD_pattern_match_discrete_False__AD_pattern_pruning_closed__AD_pattern_type_all__AD_relative_minsup_0.01__AD_sequential_minlength_1.0__tune_False__'}),\n",
    "])"
   ]
  },
  {
   "cell_type": "code",
   "execution_count": 20,
   "metadata": {
    "ExecuteTime": {
     "end_time": "2019-06-28T15:27:48.850204Z",
     "start_time": "2019-06-28T15:27:48.798544Z"
    },
    "hidden": true
   },
   "outputs": [
    {
     "data": {
      "text/html": [
       "<div>\n",
       "<style>\n",
       "    .dataframe thead tr:only-child th {\n",
       "        text-align: right;\n",
       "    }\n",
       "\n",
       "    .dataframe thead th {\n",
       "        text-align: left;\n",
       "    }\n",
       "\n",
       "    .dataframe tbody tr th {\n",
       "        vertical-align: top;\n",
       "    }\n",
       "</style>\n",
       "<table border=\"1\" class=\"dataframe\">\n",
       "  <thead>\n",
       "    <tr style=\"text-align: right;\">\n",
       "      <th></th>\n",
       "      <th>PBAD-exact</th>\n",
       "      <th>PBAD</th>\n",
       "    </tr>\n",
       "  </thead>\n",
       "  <tbody>\n",
       "    <tr>\n",
       "      <th>ambient_temperature</th>\n",
       "      <td>NaN</td>\n",
       "      <td>0.998</td>\n",
       "    </tr>\n",
       "    <tr>\n",
       "      <th>new_york_taxi</th>\n",
       "      <td>NaN</td>\n",
       "      <td>0.879</td>\n",
       "    </tr>\n",
       "    <tr>\n",
       "      <th>request_latency</th>\n",
       "      <td>NaN</td>\n",
       "      <td>0.553</td>\n",
       "    </tr>\n",
       "    <tr>\n",
       "      <th>colruyt_aalst</th>\n",
       "      <td>NaN</td>\n",
       "      <td>0.884</td>\n",
       "    </tr>\n",
       "    <tr>\n",
       "      <th>colruyt_aarschot</th>\n",
       "      <td>NaN</td>\n",
       "      <td>0.945</td>\n",
       "    </tr>\n",
       "    <tr>\n",
       "      <th>colruyt_hasselt</th>\n",
       "      <td>NaN</td>\n",
       "      <td>0.605</td>\n",
       "    </tr>\n",
       "    <tr>\n",
       "      <th>colruyt_heverlee</th>\n",
       "      <td>NaN</td>\n",
       "      <td>0.721</td>\n",
       "    </tr>\n",
       "    <tr>\n",
       "      <th>colruyt_mol</th>\n",
       "      <td>NaN</td>\n",
       "      <td>0.960</td>\n",
       "    </tr>\n",
       "    <tr>\n",
       "      <th>colruyt_roodebeek</th>\n",
       "      <td>NaN</td>\n",
       "      <td>0.752</td>\n",
       "    </tr>\n",
       "    <tr>\n",
       "      <th>average_metric</th>\n",
       "      <td>NaN</td>\n",
       "      <td>0.811</td>\n",
       "    </tr>\n",
       "    <tr>\n",
       "      <th>number_of_wins</th>\n",
       "      <td>9.0</td>\n",
       "      <td>0.000</td>\n",
       "    </tr>\n",
       "    <tr>\n",
       "      <th>average_rank</th>\n",
       "      <td>1.5</td>\n",
       "      <td>1.500</td>\n",
       "    </tr>\n",
       "  </tbody>\n",
       "</table>\n",
       "</div>"
      ],
      "text/plain": [
       "                     PBAD-exact   PBAD\n",
       "ambient_temperature         NaN  0.998\n",
       "new_york_taxi               NaN  0.879\n",
       "request_latency             NaN  0.553\n",
       "colruyt_aalst               NaN  0.884\n",
       "colruyt_aarschot            NaN  0.945\n",
       "colruyt_hasselt             NaN  0.605\n",
       "colruyt_heverlee            NaN  0.721\n",
       "colruyt_mol                 NaN  0.960\n",
       "colruyt_roodebeek           NaN  0.752\n",
       "average_metric              NaN  0.811\n",
       "number_of_wins              9.0  0.000\n",
       "average_rank                1.5  1.500"
      ]
     },
     "execution_count": 20,
     "metadata": {},
     "output_type": "execute_result"
    }
   ],
   "source": [
    "# get matrix with the results\n",
    "matrix, oracle_settings = construct_results_matrix(results, methods, metric='auroc')\n",
    "\n",
    "# combine the night and day of Colruyt stores + add the average metric + the rank + the number of wins\n",
    "matrix = adjust_results_matrix(matrix, drop=True)\n",
    "\n",
    "# AUROC results: round to 3 numbers\n",
    "matrix.astype(float).round(3)"
   ]
  },
  {
   "cell_type": "markdown",
   "metadata": {
    "heading_collapsed": true
   },
   "source": [
    "# Multivariate"
   ]
  },
  {
   "cell_type": "markdown",
   "metadata": {
    "hidden": true
   },
   "source": [
    "Procedure:\n",
    "\n",
    "1. Determine the overal best window size settings (using average rank/auroc?)\n",
    "2. Determine for each method the best settings"
   ]
  },
  {
   "cell_type": "markdown",
   "metadata": {
    "hidden": true
   },
   "source": [
    "## Load the data"
   ]
  },
  {
   "cell_type": "code",
   "execution_count": 362,
   "metadata": {
    "ExecuteTime": {
     "end_time": "2019-06-28T10:16:30.950566Z",
     "start_time": "2019-06-28T10:16:30.723827Z"
    },
    "hidden": true
   },
   "outputs": [
    {
     "name": "stdout",
     "output_type": "stream",
     "text": [
      "(76, 16)\n"
     ]
    },
    {
     "data": {
      "text/html": [
       "<div>\n",
       "<style>\n",
       "    .dataframe thead tr:only-child th {\n",
       "        text-align: right;\n",
       "    }\n",
       "\n",
       "    .dataframe thead th {\n",
       "        text-align: left;\n",
       "    }\n",
       "\n",
       "    .dataframe tbody tr th {\n",
       "        vertical-align: top;\n",
       "    }\n",
       "</style>\n",
       "<table border=\"1\" class=\"dataframe\">\n",
       "  <thead>\n",
       "    <tr style=\"text-align: right;\">\n",
       "      <th></th>\n",
       "      <th>AD_settings</th>\n",
       "      <th>PCA</th>\n",
       "      <th>alphabet_size</th>\n",
       "      <th>anom_limit</th>\n",
       "      <th>ap</th>\n",
       "      <th>auroc</th>\n",
       "      <th>bin_size</th>\n",
       "      <th>data_type</th>\n",
       "      <th>discretize</th>\n",
       "      <th>dname</th>\n",
       "      <th>ndims</th>\n",
       "      <th>nlabels</th>\n",
       "      <th>scaling</th>\n",
       "      <th>wincrement</th>\n",
       "      <th>wsize</th>\n",
       "      <th>method</th>\n",
       "    </tr>\n",
       "  </thead>\n",
       "  <tbody>\n",
       "    <tr>\n",
       "      <th>0</th>\n",
       "      <td>__AD_method_name_MIFPOD__AD_relative_minsup_0....</td>\n",
       "      <td>yes</td>\n",
       "      <td>30</td>\n",
       "      <td>8</td>\n",
       "      <td>0.130911</td>\n",
       "      <td>0.774831</td>\n",
       "      <td>10</td>\n",
       "      <td>multivariate</td>\n",
       "      <td>True</td>\n",
       "      <td>lunges_vs_squats</td>\n",
       "      <td>3</td>\n",
       "      <td>0.0</td>\n",
       "      <td>False</td>\n",
       "      <td>1</td>\n",
       "      <td>10</td>\n",
       "      <td>MIFPOD</td>\n",
       "    </tr>\n",
       "    <tr>\n",
       "      <th>1</th>\n",
       "      <td>__AD_distance_formula_1.0__AD_exact_match_Fals...</td>\n",
       "      <td>yes</td>\n",
       "      <td>30</td>\n",
       "      <td>8</td>\n",
       "      <td>0.735934</td>\n",
       "      <td>0.935739</td>\n",
       "      <td>10</td>\n",
       "      <td>multivariate</td>\n",
       "      <td>True</td>\n",
       "      <td>lunges_vs_squats</td>\n",
       "      <td>3</td>\n",
       "      <td>0.0</td>\n",
       "      <td>False</td>\n",
       "      <td>1</td>\n",
       "      <td>10</td>\n",
       "      <td>PBAD</td>\n",
       "    </tr>\n",
       "    <tr>\n",
       "      <th>2</th>\n",
       "      <td>__AD_method_name_PAV__tune_False__</td>\n",
       "      <td>yes</td>\n",
       "      <td>30</td>\n",
       "      <td>8</td>\n",
       "      <td>0.110101</td>\n",
       "      <td>0.670709</td>\n",
       "      <td>10</td>\n",
       "      <td>multivariate</td>\n",
       "      <td>True</td>\n",
       "      <td>lunges_vs_squats</td>\n",
       "      <td>3</td>\n",
       "      <td>0.0</td>\n",
       "      <td>False</td>\n",
       "      <td>1</td>\n",
       "      <td>10</td>\n",
       "      <td>PAV</td>\n",
       "    </tr>\n",
       "    <tr>\n",
       "      <th>3</th>\n",
       "      <td>__AD_method_name_MIFPOD__AD_relative_minsup_0....</td>\n",
       "      <td>yes</td>\n",
       "      <td>30</td>\n",
       "      <td>8</td>\n",
       "      <td>0.050453</td>\n",
       "      <td>0.416190</td>\n",
       "      <td>10</td>\n",
       "      <td>multivariate</td>\n",
       "      <td>True</td>\n",
       "      <td>lunges_vs_squats</td>\n",
       "      <td>3</td>\n",
       "      <td>0.0</td>\n",
       "      <td>False</td>\n",
       "      <td>1</td>\n",
       "      <td>10</td>\n",
       "      <td>MIFPOD</td>\n",
       "    </tr>\n",
       "    <tr>\n",
       "      <th>4</th>\n",
       "      <td>__AD_jaccard_threshold_0.9__AD_method_name_FPO...</td>\n",
       "      <td>yes</td>\n",
       "      <td>30</td>\n",
       "      <td>8</td>\n",
       "      <td>0.053705</td>\n",
       "      <td>0.453381</td>\n",
       "      <td>10</td>\n",
       "      <td>multivariate</td>\n",
       "      <td>True</td>\n",
       "      <td>lunges_vs_squats</td>\n",
       "      <td>3</td>\n",
       "      <td>0.0</td>\n",
       "      <td>False</td>\n",
       "      <td>1</td>\n",
       "      <td>10</td>\n",
       "      <td>FPOF</td>\n",
       "    </tr>\n",
       "  </tbody>\n",
       "</table>\n",
       "</div>"
      ],
      "text/plain": [
       "                                         AD_settings  PCA  alphabet_size  \\\n",
       "0  __AD_method_name_MIFPOD__AD_relative_minsup_0....  yes             30   \n",
       "1  __AD_distance_formula_1.0__AD_exact_match_Fals...  yes             30   \n",
       "2                 __AD_method_name_PAV__tune_False__  yes             30   \n",
       "3  __AD_method_name_MIFPOD__AD_relative_minsup_0....  yes             30   \n",
       "4  __AD_jaccard_threshold_0.9__AD_method_name_FPO...  yes             30   \n",
       "\n",
       "   anom_limit        ap     auroc  bin_size     data_type  discretize  \\\n",
       "0           8  0.130911  0.774831        10  multivariate        True   \n",
       "1           8  0.735934  0.935739        10  multivariate        True   \n",
       "2           8  0.110101  0.670709        10  multivariate        True   \n",
       "3           8  0.050453  0.416190        10  multivariate        True   \n",
       "4           8  0.053705  0.453381        10  multivariate        True   \n",
       "\n",
       "              dname  ndims  nlabels  scaling  wincrement  wsize  method  \n",
       "0  lunges_vs_squats      3      0.0    False           1     10  MIFPOD  \n",
       "1  lunges_vs_squats      3      0.0    False           1     10    PBAD  \n",
       "2  lunges_vs_squats      3      0.0    False           1     10     PAV  \n",
       "3  lunges_vs_squats      3      0.0    False           1     10  MIFPOD  \n",
       "4  lunges_vs_squats      3      0.0    False           1     10    FPOF  "
      ]
     },
     "execution_count": 362,
     "metadata": {},
     "output_type": "execute_result"
    }
   ],
   "source": [
    "# load all the results\n",
    "path = '/home/vincentv/dtaijupiter/projects/camera_ready_PBAD/results/_compiled_results/multivariate/'\n",
    "result_parts = [f for f in glob(os.path.join(path, '*')) if '.csv' in f]\n",
    "all_results = [pd.read_csv(i, sep=',', header=0, index_col=0) for i in result_parts]\n",
    "results = pd.concat(all_results)\n",
    "results.index = np.arange(0, len(results), 1)\n",
    "\n",
    "# add the method name as an extra column\n",
    "results['method'] = results.apply(lambda x: x['AD_settings'].split('__AD_method_name_')[-1].split('__')[0], axis=1)\n",
    "\n",
    "# print\n",
    "print(results.shape)\n",
    "results.head()"
   ]
  },
  {
   "cell_type": "markdown",
   "metadata": {
    "heading_collapsed": true,
    "hidden": true
   },
   "source": [
    "## BASELINES: optimal parameter settings using an ORACLE"
   ]
  },
  {
   "cell_type": "code",
   "execution_count": 349,
   "metadata": {
    "ExecuteTime": {
     "end_time": "2019-06-28T10:03:02.794256Z",
     "start_time": "2019-06-28T10:03:02.452491Z"
    },
    "hidden": true
   },
   "outputs": [
    {
     "data": {
      "text/html": [
       "<div>\n",
       "<style>\n",
       "    .dataframe thead tr:only-child th {\n",
       "        text-align: right;\n",
       "    }\n",
       "\n",
       "    .dataframe thead th {\n",
       "        text-align: left;\n",
       "    }\n",
       "\n",
       "    .dataframe tbody tr th {\n",
       "        vertical-align: top;\n",
       "    }\n",
       "</style>\n",
       "<table border=\"1\" class=\"dataframe\">\n",
       "  <thead>\n",
       "    <tr style=\"text-align: right;\">\n",
       "      <th></th>\n",
       "      <th>avg_rank</th>\n",
       "      <th>avg_AUROC</th>\n",
       "      <th>settings</th>\n",
       "    </tr>\n",
       "  </thead>\n",
       "  <tbody>\n",
       "    <tr>\n",
       "      <th>__AD_jaccard_threshold_0.9__AD_method_name_FPOF__AD_pattern_pruning_closed__AD_relative_minsup_0.1__tune_False__</th>\n",
       "      <td>1.125</td>\n",
       "      <td>0.924806</td>\n",
       "      <td>settings: __AD_jaccard_threshold_0.9__AD_metho...</td>\n",
       "    </tr>\n",
       "    <tr>\n",
       "      <th>__AD_jaccard_threshold_0.9__AD_method_name_FPOF__AD_pattern_pruning_closed__AD_relative_minsup_0.05__tune_False__</th>\n",
       "      <td>1.875</td>\n",
       "      <td>0.914274</td>\n",
       "      <td>settings: __AD_jaccard_threshold_0.9__AD_metho...</td>\n",
       "    </tr>\n",
       "    <tr>\n",
       "      <th>__AD_jaccard_threshold_0.9__AD_method_name_FPOF__AD_pattern_pruning_closed__AD_relative_minsup_0.01__tune_False__</th>\n",
       "      <td>3.000</td>\n",
       "      <td>0.885609</td>\n",
       "      <td>settings: __AD_jaccard_threshold_0.9__AD_metho...</td>\n",
       "    </tr>\n",
       "    <tr>\n",
       "      <th>__AD_jaccard_threshold_0.9__AD_method_name_FPOF__AD_pattern_pruning_maximal__AD_relative_minsup_0.1__tune_False__</th>\n",
       "      <td>4.000</td>\n",
       "      <td>0.814039</td>\n",
       "      <td>settings: __AD_jaccard_threshold_0.9__AD_metho...</td>\n",
       "    </tr>\n",
       "    <tr>\n",
       "      <th>__AD_jaccard_threshold_0.9__AD_method_name_FPOF__AD_pattern_pruning_maximal__AD_relative_minsup_0.05__tune_False__</th>\n",
       "      <td>5.000</td>\n",
       "      <td>0.700598</td>\n",
       "      <td>settings: __AD_jaccard_threshold_0.9__AD_metho...</td>\n",
       "    </tr>\n",
       "    <tr>\n",
       "      <th>__AD_jaccard_threshold_0.9__AD_method_name_FPOF__AD_pattern_pruning_maximal__AD_relative_minsup_0.01__tune_False__</th>\n",
       "      <td>6.000</td>\n",
       "      <td>0.543563</td>\n",
       "      <td>settings: __AD_jaccard_threshold_0.9__AD_metho...</td>\n",
       "    </tr>\n",
       "  </tbody>\n",
       "</table>\n",
       "</div>"
      ],
      "text/plain": [
       "                                                    avg_rank  avg_AUROC  \\\n",
       "__AD_jaccard_threshold_0.9__AD_method_name_FPOF...     1.125   0.924806   \n",
       "__AD_jaccard_threshold_0.9__AD_method_name_FPOF...     1.875   0.914274   \n",
       "__AD_jaccard_threshold_0.9__AD_method_name_FPOF...     3.000   0.885609   \n",
       "__AD_jaccard_threshold_0.9__AD_method_name_FPOF...     4.000   0.814039   \n",
       "__AD_jaccard_threshold_0.9__AD_method_name_FPOF...     5.000   0.700598   \n",
       "__AD_jaccard_threshold_0.9__AD_method_name_FPOF...     6.000   0.543563   \n",
       "\n",
       "                                                                                             settings  \n",
       "__AD_jaccard_threshold_0.9__AD_method_name_FPOF...  settings: __AD_jaccard_threshold_0.9__AD_metho...  \n",
       "__AD_jaccard_threshold_0.9__AD_method_name_FPOF...  settings: __AD_jaccard_threshold_0.9__AD_metho...  \n",
       "__AD_jaccard_threshold_0.9__AD_method_name_FPOF...  settings: __AD_jaccard_threshold_0.9__AD_metho...  \n",
       "__AD_jaccard_threshold_0.9__AD_method_name_FPOF...  settings: __AD_jaccard_threshold_0.9__AD_metho...  \n",
       "__AD_jaccard_threshold_0.9__AD_method_name_FPOF...  settings: __AD_jaccard_threshold_0.9__AD_metho...  \n",
       "__AD_jaccard_threshold_0.9__AD_method_name_FPOF...  settings: __AD_jaccard_threshold_0.9__AD_metho...  "
      ]
     },
     "execution_count": 349,
     "metadata": {},
     "output_type": "execute_result"
    }
   ],
   "source": [
    "settings_results, nan_methods = find_best_settings_algorithm(results, {'method': 'FPOF'})\n",
    "settings_results"
   ]
  },
  {
   "cell_type": "code",
   "execution_count": 350,
   "metadata": {
    "ExecuteTime": {
     "end_time": "2019-06-28T10:03:03.319554Z",
     "start_time": "2019-06-28T10:03:03.276970Z"
    },
    "hidden": true
   },
   "outputs": [
    {
     "data": {
      "text/html": [
       "<div>\n",
       "<style>\n",
       "    .dataframe thead tr:only-child th {\n",
       "        text-align: right;\n",
       "    }\n",
       "\n",
       "    .dataframe thead th {\n",
       "        text-align: left;\n",
       "    }\n",
       "\n",
       "    .dataframe tbody tr th {\n",
       "        vertical-align: top;\n",
       "    }\n",
       "</style>\n",
       "<table border=\"1\" class=\"dataframe\">\n",
       "  <thead>\n",
       "    <tr style=\"text-align: right;\">\n",
       "      <th></th>\n",
       "      <th>avg_rank</th>\n",
       "      <th>avg_AUROC</th>\n",
       "      <th>settings</th>\n",
       "    </tr>\n",
       "  </thead>\n",
       "  <tbody>\n",
       "    <tr>\n",
       "      <th>__AD_method_name_MIFPOD__AD_relative_minsup_0.1__tune_False__</th>\n",
       "      <td>1.25</td>\n",
       "      <td>0.712153</td>\n",
       "      <td>settings: __AD_method_name_MIFPOD__AD_relative...</td>\n",
       "    </tr>\n",
       "    <tr>\n",
       "      <th>__AD_method_name_MIFPOD__AD_relative_minsup_0.05__tune_False__</th>\n",
       "      <td>1.75</td>\n",
       "      <td>0.597443</td>\n",
       "      <td>settings: __AD_method_name_MIFPOD__AD_relative...</td>\n",
       "    </tr>\n",
       "    <tr>\n",
       "      <th>__AD_method_name_MIFPOD__AD_relative_minsup_0.01__tune_False__</th>\n",
       "      <td>3.00</td>\n",
       "      <td>0.487896</td>\n",
       "      <td>settings: __AD_method_name_MIFPOD__AD_relative...</td>\n",
       "    </tr>\n",
       "  </tbody>\n",
       "</table>\n",
       "</div>"
      ],
      "text/plain": [
       "                                                    avg_rank  avg_AUROC  \\\n",
       "__AD_method_name_MIFPOD__AD_relative_minsup_0.1...      1.25   0.712153   \n",
       "__AD_method_name_MIFPOD__AD_relative_minsup_0.0...      1.75   0.597443   \n",
       "__AD_method_name_MIFPOD__AD_relative_minsup_0.0...      3.00   0.487896   \n",
       "\n",
       "                                                                                             settings  \n",
       "__AD_method_name_MIFPOD__AD_relative_minsup_0.1...  settings: __AD_method_name_MIFPOD__AD_relative...  \n",
       "__AD_method_name_MIFPOD__AD_relative_minsup_0.0...  settings: __AD_method_name_MIFPOD__AD_relative...  \n",
       "__AD_method_name_MIFPOD__AD_relative_minsup_0.0...  settings: __AD_method_name_MIFPOD__AD_relative...  "
      ]
     },
     "execution_count": 350,
     "metadata": {},
     "output_type": "execute_result"
    }
   ],
   "source": [
    "settings_results, nan_methods = find_best_settings_algorithm(results, {'method': 'MIFPOD'})\n",
    "settings_results"
   ]
  },
  {
   "cell_type": "markdown",
   "metadata": {
    "heading_collapsed": true,
    "hidden": true
   },
   "source": [
    "## PBAD: feasible parameter settings across the entire benchmark"
   ]
  },
  {
   "cell_type": "code",
   "execution_count": 351,
   "metadata": {
    "ExecuteTime": {
     "end_time": "2019-06-28T10:03:12.405065Z",
     "start_time": "2019-06-28T10:03:12.341965Z"
    },
    "hidden": true
   },
   "outputs": [
    {
     "name": "stdout",
     "output_type": "stream",
     "text": [
      "Index([], dtype='object')\n"
     ]
    },
    {
     "data": {
      "text/html": [
       "<div>\n",
       "<style>\n",
       "    .dataframe thead tr:only-child th {\n",
       "        text-align: right;\n",
       "    }\n",
       "\n",
       "    .dataframe thead th {\n",
       "        text-align: left;\n",
       "    }\n",
       "\n",
       "    .dataframe tbody tr th {\n",
       "        vertical-align: top;\n",
       "    }\n",
       "</style>\n",
       "<table border=\"1\" class=\"dataframe\">\n",
       "  <thead>\n",
       "    <tr style=\"text-align: right;\">\n",
       "      <th></th>\n",
       "      <th>avg_rank</th>\n",
       "      <th>avg_AUROC</th>\n",
       "      <th>settings</th>\n",
       "    </tr>\n",
       "  </thead>\n",
       "  <tbody>\n",
       "    <tr>\n",
       "      <th>__AD_distance_formula_1.0__AD_exact_match_False__AD_jaccard_threshold_0.9__AD_method_name_PBAD__AD_pattern_match_discrete_False__AD_pattern_pruning_closed__AD_pattern_type_all__AD_relative_minsup_0.01__AD_sequential_minlength_1.0__tune_False__</th>\n",
       "      <td>3.000</td>\n",
       "      <td>0.928666</td>\n",
       "      <td>settings: __AD_distance_formula_1.0__AD_exact_...</td>\n",
       "    </tr>\n",
       "    <tr>\n",
       "      <th>__AD_distance_formula_1.0__AD_exact_match_False__AD_jaccard_threshold_0.9__AD_method_name_PBAD__AD_pattern_match_discrete_False__AD_pattern_pruning_closed__AD_pattern_type_all__AD_relative_minsup_0.01__AD_sequential_minlength_2.0__tune_False__</th>\n",
       "      <td>3.000</td>\n",
       "      <td>0.930392</td>\n",
       "      <td>settings: __AD_distance_formula_1.0__AD_exact_...</td>\n",
       "    </tr>\n",
       "    <tr>\n",
       "      <th>__AD_distance_formula_1.0__AD_exact_match_False__AD_jaccard_threshold_0.9__AD_method_name_PBAD__AD_pattern_match_discrete_False__AD_pattern_pruning_closed__AD_pattern_type_raw__AD_relative_minsup_0.01__AD_sequential_minlength_1.0__tune_False__</th>\n",
       "      <td>4.625</td>\n",
       "      <td>0.794491</td>\n",
       "      <td>settings: __AD_distance_formula_1.0__AD_exact_...</td>\n",
       "    </tr>\n",
       "    <tr>\n",
       "      <th>__AD_distance_formula_1.0__AD_exact_match_False__AD_jaccard_threshold_0.9__AD_method_name_PBAD__AD_pattern_match_discrete_False__AD_pattern_pruning_closed__AD_pattern_type_raw__AD_relative_minsup_0.01__AD_sequential_minlength_2.0__tune_False__</th>\n",
       "      <td>4.875</td>\n",
       "      <td>0.792200</td>\n",
       "      <td>settings: __AD_distance_formula_1.0__AD_exact_...</td>\n",
       "    </tr>\n",
       "    <tr>\n",
       "      <th>__AD_distance_formula_1.0__AD_exact_match_False__AD_jaccard_threshold_0.9__AD_method_name_PBAD__AD_pattern_match_discrete_False__AD_pattern_pruning_closed__AD_pattern_type_itemset__AD_relative_minsup_0.01__AD_sequential_minlength_1.0__tune_False__</th>\n",
       "      <td>5.000</td>\n",
       "      <td>0.867023</td>\n",
       "      <td>settings: __AD_distance_formula_1.0__AD_exact_...</td>\n",
       "    </tr>\n",
       "    <tr>\n",
       "      <th>__AD_distance_formula_1.0__AD_exact_match_False__AD_jaccard_threshold_0.9__AD_method_name_PBAD__AD_pattern_match_discrete_False__AD_pattern_pruning_closed__AD_pattern_type_itemset__AD_relative_minsup_0.01__AD_sequential_minlength_2.0__tune_False__</th>\n",
       "      <td>5.000</td>\n",
       "      <td>0.870018</td>\n",
       "      <td>settings: __AD_distance_formula_1.0__AD_exact_...</td>\n",
       "    </tr>\n",
       "    <tr>\n",
       "      <th>__AD_distance_formula_1.0__AD_exact_match_False__AD_jaccard_threshold_0.9__AD_method_name_PBAD__AD_pattern_match_discrete_False__AD_pattern_pruning_closed__AD_pattern_type_sequential__AD_relative_minsup_0.01__AD_sequential_minlength_1.0__tune_False__</th>\n",
       "      <td>5.250</td>\n",
       "      <td>0.836588</td>\n",
       "      <td>settings: __AD_distance_formula_1.0__AD_exact_...</td>\n",
       "    </tr>\n",
       "    <tr>\n",
       "      <th>__AD_distance_formula_1.0__AD_exact_match_False__AD_jaccard_threshold_0.9__AD_method_name_PBAD__AD_pattern_match_discrete_False__AD_pattern_pruning_closed__AD_pattern_type_sequential__AD_relative_minsup_0.01__AD_sequential_minlength_2.0__tune_False__</th>\n",
       "      <td>5.250</td>\n",
       "      <td>0.838254</td>\n",
       "      <td>settings: __AD_distance_formula_1.0__AD_exact_...</td>\n",
       "    </tr>\n",
       "  </tbody>\n",
       "</table>\n",
       "</div>"
      ],
      "text/plain": [
       "                                                    avg_rank  avg_AUROC  \\\n",
       "__AD_distance_formula_1.0__AD_exact_match_False...     3.000   0.928666   \n",
       "__AD_distance_formula_1.0__AD_exact_match_False...     3.000   0.930392   \n",
       "__AD_distance_formula_1.0__AD_exact_match_False...     4.625   0.794491   \n",
       "__AD_distance_formula_1.0__AD_exact_match_False...     4.875   0.792200   \n",
       "__AD_distance_formula_1.0__AD_exact_match_False...     5.000   0.867023   \n",
       "__AD_distance_formula_1.0__AD_exact_match_False...     5.000   0.870018   \n",
       "__AD_distance_formula_1.0__AD_exact_match_False...     5.250   0.836588   \n",
       "__AD_distance_formula_1.0__AD_exact_match_False...     5.250   0.838254   \n",
       "\n",
       "                                                                                             settings  \n",
       "__AD_distance_formula_1.0__AD_exact_match_False...  settings: __AD_distance_formula_1.0__AD_exact_...  \n",
       "__AD_distance_formula_1.0__AD_exact_match_False...  settings: __AD_distance_formula_1.0__AD_exact_...  \n",
       "__AD_distance_formula_1.0__AD_exact_match_False...  settings: __AD_distance_formula_1.0__AD_exact_...  \n",
       "__AD_distance_formula_1.0__AD_exact_match_False...  settings: __AD_distance_formula_1.0__AD_exact_...  \n",
       "__AD_distance_formula_1.0__AD_exact_match_False...  settings: __AD_distance_formula_1.0__AD_exact_...  \n",
       "__AD_distance_formula_1.0__AD_exact_match_False...  settings: __AD_distance_formula_1.0__AD_exact_...  \n",
       "__AD_distance_formula_1.0__AD_exact_match_False...  settings: __AD_distance_formula_1.0__AD_exact_...  \n",
       "__AD_distance_formula_1.0__AD_exact_match_False...  settings: __AD_distance_formula_1.0__AD_exact_...  "
      ]
     },
     "execution_count": 351,
     "metadata": {},
     "output_type": "execute_result"
    }
   ],
   "source": [
    "settings_results, nan_methods = find_feasible_settings_algorithm(results, {'method': 'PBAD'})\n",
    "print(nan_methods)\n",
    "settings_results"
   ]
  },
  {
   "cell_type": "markdown",
   "metadata": {
    "hidden": true
   },
   "source": [
    "## Horse-race results for each dataset - ORACLE for the baselines + feasible, fixed settings for PBAD"
   ]
  },
  {
   "cell_type": "code",
   "execution_count": 363,
   "metadata": {
    "ExecuteTime": {
     "end_time": "2019-06-28T10:16:33.390041Z",
     "start_time": "2019-06-28T10:16:33.370193Z"
    },
    "hidden": true
   },
   "outputs": [],
   "source": [
    "methods = OrderedDict([\n",
    "    ('MP', {'method': 'MPAD', 'AD_settings': 'oracle'}),\n",
    "    ('PAV', {'method': 'PAV', 'AD_settings': 'oracle'}),\n",
    "    #('MIFPOD', {'method': 'MIFPOD', 'AD_settings': '__AD_method_name_MIFPOD__AD_relative_minsup_0.1__tune_False__'}),\n",
    "    ('MIFPOD', {'method': 'MIFPOD', 'AD_settings': 'oracle'}),\n",
    "    #('FPOF', {'method': 'FPOF', 'AD_settings': '__AD_jaccard_threshold_0.9__AD_method_name_FPOF__AD_pattern_pruning_closed__AD_relative_minsup_0.1__tune_False__'}),\n",
    "    ('FPOF', {'method': 'FPOF', 'AD_settings': 'oracle'}),\n",
    "    ('PBAD', {'method': 'PBAD', 'AD_settings': '__AD_distance_formula_1.0__AD_exact_match_False__AD_jaccard_threshold_0.9__AD_method_name_PBAD__AD_pattern_match_discrete_False__AD_pattern_pruning_closed__AD_pattern_type_all__AD_relative_minsup_0.01__AD_sequential_minlength_2.0__tune_False__'}),\n",
    "])"
   ]
  },
  {
   "cell_type": "markdown",
   "metadata": {
    "hidden": true
   },
   "source": [
    "### AUROC and AP results"
   ]
  },
  {
   "cell_type": "code",
   "execution_count": 371,
   "metadata": {
    "ExecuteTime": {
     "end_time": "2019-06-28T11:24:40.194299Z",
     "start_time": "2019-06-28T11:24:39.874717Z"
    },
    "hidden": true
   },
   "outputs": [
    {
     "name": "stdout",
     "output_type": "stream",
     "text": [
      "ORACLE selects best settings for: MPAD\n",
      "ORACLE selects best settings for: PAV\n",
      "ORACLE selects best settings for: MIFPOD\n",
      "ORACLE selects best settings for: FPOF\n"
     ]
    },
    {
     "data": {
      "text/html": [
       "<div>\n",
       "<style>\n",
       "    .dataframe thead tr:only-child th {\n",
       "        text-align: right;\n",
       "    }\n",
       "\n",
       "    .dataframe thead th {\n",
       "        text-align: left;\n",
       "    }\n",
       "\n",
       "    .dataframe tbody tr th {\n",
       "        vertical-align: top;\n",
       "    }\n",
       "</style>\n",
       "<table border=\"1\" class=\"dataframe\">\n",
       "  <thead>\n",
       "    <tr style=\"text-align: right;\">\n",
       "      <th></th>\n",
       "      <th>MP</th>\n",
       "      <th>PAV</th>\n",
       "      <th>MIFPOD</th>\n",
       "      <th>FPOF</th>\n",
       "      <th>PBAD</th>\n",
       "    </tr>\n",
       "  </thead>\n",
       "  <tbody>\n",
       "    <tr>\n",
       "      <th>lunges_and_sidelunges_vs_squats</th>\n",
       "      <td>0.472</td>\n",
       "      <td>0.571</td>\n",
       "      <td>0.819</td>\n",
       "      <td>0.966</td>\n",
       "      <td>0.983</td>\n",
       "    </tr>\n",
       "    <tr>\n",
       "      <th>lunges_vs_squats</th>\n",
       "      <td>0.604</td>\n",
       "      <td>0.671</td>\n",
       "      <td>0.775</td>\n",
       "      <td>0.966</td>\n",
       "      <td>0.940</td>\n",
       "    </tr>\n",
       "    <tr>\n",
       "      <th>sidelunges_vs_lunges</th>\n",
       "      <td>0.471</td>\n",
       "      <td>0.425</td>\n",
       "      <td>0.804</td>\n",
       "      <td>0.864</td>\n",
       "      <td>0.907</td>\n",
       "    </tr>\n",
       "    <tr>\n",
       "      <th>squats_vs_sidelunges</th>\n",
       "      <td>0.484</td>\n",
       "      <td>0.504</td>\n",
       "      <td>0.482</td>\n",
       "      <td>0.903</td>\n",
       "      <td>0.914</td>\n",
       "    </tr>\n",
       "    <tr>\n",
       "      <th>average_metric</th>\n",
       "      <td>0.508</td>\n",
       "      <td>0.542</td>\n",
       "      <td>0.720</td>\n",
       "      <td>0.925</td>\n",
       "      <td>0.936</td>\n",
       "    </tr>\n",
       "    <tr>\n",
       "      <th>number_of_wins</th>\n",
       "      <td>0.000</td>\n",
       "      <td>0.000</td>\n",
       "      <td>0.000</td>\n",
       "      <td>1.000</td>\n",
       "      <td>3.000</td>\n",
       "    </tr>\n",
       "    <tr>\n",
       "      <th>average_rank</th>\n",
       "      <td>4.500</td>\n",
       "      <td>4.000</td>\n",
       "      <td>3.500</td>\n",
       "      <td>1.750</td>\n",
       "      <td>1.250</td>\n",
       "    </tr>\n",
       "  </tbody>\n",
       "</table>\n",
       "</div>"
      ],
      "text/plain": [
       "                                    MP    PAV  MIFPOD   FPOF   PBAD\n",
       "lunges_and_sidelunges_vs_squats  0.472  0.571   0.819  0.966  0.983\n",
       "lunges_vs_squats                 0.604  0.671   0.775  0.966  0.940\n",
       "sidelunges_vs_lunges             0.471  0.425   0.804  0.864  0.907\n",
       "squats_vs_sidelunges             0.484  0.504   0.482  0.903  0.914\n",
       "average_metric                   0.508  0.542   0.720  0.925  0.936\n",
       "number_of_wins                   0.000  0.000   0.000  1.000  3.000\n",
       "average_rank                     4.500  4.000   3.500  1.750  1.250"
      ]
     },
     "execution_count": 371,
     "metadata": {},
     "output_type": "execute_result"
    }
   ],
   "source": [
    "# get matrix with the results\n",
    "matrix, oracle_settings = construct_results_matrix(results, methods, metric='auroc')\n",
    "\n",
    "# combine the night and day of Colruyt stores + add the average metric + the rank + the number of wins\n",
    "matrix = adjust_results_matrix(matrix)\n",
    "\n",
    "# AUROC results: round to 3 numbers\n",
    "matrix.astype(float).round(3)"
   ]
  },
  {
   "cell_type": "code",
   "execution_count": 372,
   "metadata": {
    "ExecuteTime": {
     "end_time": "2019-06-28T11:24:41.084901Z",
     "start_time": "2019-06-28T11:24:41.064981Z"
    },
    "hidden": true
   },
   "outputs": [
    {
     "name": "stdout",
     "output_type": "stream",
     "text": [
      "Mean one-up: 1.33420657262 - STD one-up: 2.74202905783\n"
     ]
    }
   ],
   "source": [
    "# average increase in metric for PBAD over the nearest competitor\n",
    "auc_values = matrix.values\n",
    "pbad_aucs = auc_values[:, -1][:-3]\n",
    "closest_comp = np.max(auc_values[:, :-1], axis=1)[:-3]\n",
    "one_up = (pbad_aucs - closest_comp) / closest_comp * 100\n",
    "print('Mean one-up:', np.mean(one_up), '- STD one-up:', np.std(one_up))"
   ]
  },
  {
   "cell_type": "code",
   "execution_count": 373,
   "metadata": {
    "ExecuteTime": {
     "end_time": "2019-06-28T11:24:42.148550Z",
     "start_time": "2019-06-28T11:24:42.066461Z"
    },
    "hidden": true
   },
   "outputs": [
    {
     "name": "stdout",
     "output_type": "stream",
     "text": [
      "ORACLE selects best settings for: MPAD\n",
      "ORACLE selects best settings for: PAV\n",
      "ORACLE selects best settings for: MIFPOD\n",
      "ORACLE selects best settings for: FPOF\n"
     ]
    },
    {
     "data": {
      "text/html": [
       "<div>\n",
       "<style>\n",
       "    .dataframe thead tr:only-child th {\n",
       "        text-align: right;\n",
       "    }\n",
       "\n",
       "    .dataframe thead th {\n",
       "        text-align: left;\n",
       "    }\n",
       "\n",
       "    .dataframe tbody tr th {\n",
       "        vertical-align: top;\n",
       "    }\n",
       "</style>\n",
       "<table border=\"1\" class=\"dataframe\">\n",
       "  <thead>\n",
       "    <tr style=\"text-align: right;\">\n",
       "      <th></th>\n",
       "      <th>MP</th>\n",
       "      <th>PAV</th>\n",
       "      <th>MIFPOD</th>\n",
       "      <th>FPOF</th>\n",
       "      <th>PBAD</th>\n",
       "    </tr>\n",
       "  </thead>\n",
       "  <tbody>\n",
       "    <tr>\n",
       "      <th>lunges_and_sidelunges_vs_squats</th>\n",
       "      <td>0.283</td>\n",
       "      <td>0.255</td>\n",
       "      <td>0.430</td>\n",
       "      <td>0.862</td>\n",
       "      <td>0.888</td>\n",
       "    </tr>\n",
       "    <tr>\n",
       "      <th>lunges_vs_squats</th>\n",
       "      <td>0.082</td>\n",
       "      <td>0.110</td>\n",
       "      <td>0.131</td>\n",
       "      <td>0.662</td>\n",
       "      <td>0.737</td>\n",
       "    </tr>\n",
       "    <tr>\n",
       "      <th>sidelunges_vs_lunges</th>\n",
       "      <td>0.128</td>\n",
       "      <td>0.115</td>\n",
       "      <td>0.444</td>\n",
       "      <td>0.572</td>\n",
       "      <td>0.573</td>\n",
       "    </tr>\n",
       "    <tr>\n",
       "      <th>squats_vs_sidelunges</th>\n",
       "      <td>0.094</td>\n",
       "      <td>0.092</td>\n",
       "      <td>0.087</td>\n",
       "      <td>0.391</td>\n",
       "      <td>0.707</td>\n",
       "    </tr>\n",
       "    <tr>\n",
       "      <th>average_metric</th>\n",
       "      <td>0.147</td>\n",
       "      <td>0.143</td>\n",
       "      <td>0.273</td>\n",
       "      <td>0.622</td>\n",
       "      <td>0.726</td>\n",
       "    </tr>\n",
       "    <tr>\n",
       "      <th>number_of_wins</th>\n",
       "      <td>0.000</td>\n",
       "      <td>0.000</td>\n",
       "      <td>0.000</td>\n",
       "      <td>0.000</td>\n",
       "      <td>4.000</td>\n",
       "    </tr>\n",
       "    <tr>\n",
       "      <th>average_rank</th>\n",
       "      <td>4.000</td>\n",
       "      <td>4.500</td>\n",
       "      <td>3.500</td>\n",
       "      <td>2.000</td>\n",
       "      <td>1.000</td>\n",
       "    </tr>\n",
       "  </tbody>\n",
       "</table>\n",
       "</div>"
      ],
      "text/plain": [
       "                                    MP    PAV  MIFPOD   FPOF   PBAD\n",
       "lunges_and_sidelunges_vs_squats  0.283  0.255   0.430  0.862  0.888\n",
       "lunges_vs_squats                 0.082  0.110   0.131  0.662  0.737\n",
       "sidelunges_vs_lunges             0.128  0.115   0.444  0.572  0.573\n",
       "squats_vs_sidelunges             0.094  0.092   0.087  0.391  0.707\n",
       "average_metric                   0.147  0.143   0.273  0.622  0.726\n",
       "number_of_wins                   0.000  0.000   0.000  0.000  4.000\n",
       "average_rank                     4.000  4.500   3.500  2.000  1.000"
      ]
     },
     "execution_count": 373,
     "metadata": {},
     "output_type": "execute_result"
    }
   ],
   "source": [
    "# get matrix with the results\n",
    "matrix, oracle_settings = construct_results_matrix(results, methods, metric='ap')\n",
    "\n",
    "# combine the night and day of Colruyt stores + add the average metric + the rank + the number of wins\n",
    "matrix = adjust_results_matrix(matrix)\n",
    "\n",
    "# AUROC results: round to 3 numbers\n",
    "matrix.astype(float).round(3)"
   ]
  },
  {
   "cell_type": "code",
   "execution_count": 374,
   "metadata": {
    "ExecuteTime": {
     "end_time": "2019-06-28T11:24:42.550505Z",
     "start_time": "2019-06-28T11:24:42.529631Z"
    },
    "hidden": true
   },
   "outputs": [
    {
     "name": "stdout",
     "output_type": "stream",
     "text": [
      "Mean one-up: 23.801538179 - STD one-up: 33.1618136125\n"
     ]
    }
   ],
   "source": [
    "# average increase in metric for PBAD over the nearest competitor\n",
    "auc_values = matrix.values\n",
    "pbad_aucs = auc_values[:, -1][:-3]\n",
    "closest_comp = np.max(auc_values[:, :-1], axis=1)[:-3]\n",
    "one_up = (pbad_aucs - closest_comp) / closest_comp * 100\n",
    "print('Mean one-up:', np.mean(one_up), '- STD one-up:', np.std(one_up))"
   ]
  },
  {
   "cell_type": "markdown",
   "metadata": {},
   "source": [
    "# Test"
   ]
  },
  {
   "cell_type": "code",
   "execution_count": 21,
   "metadata": {
    "ExecuteTime": {
     "end_time": "2020-02-04T19:52:24.863811Z",
     "start_time": "2020-02-04T19:52:24.297789Z"
    }
   },
   "outputs": [
    {
     "name": "stdout",
     "output_type": "stream",
     "text": [
      "(315, 16)\n"
     ]
    },
    {
     "data": {
      "text/html": [
       "<div>\n",
       "<style scoped>\n",
       "    .dataframe tbody tr th:only-of-type {\n",
       "        vertical-align: middle;\n",
       "    }\n",
       "\n",
       "    .dataframe tbody tr th {\n",
       "        vertical-align: top;\n",
       "    }\n",
       "\n",
       "    .dataframe thead th {\n",
       "        text-align: right;\n",
       "    }\n",
       "</style>\n",
       "<table border=\"1\" class=\"dataframe\">\n",
       "  <thead>\n",
       "    <tr style=\"text-align: right;\">\n",
       "      <th></th>\n",
       "      <th>AD_settings</th>\n",
       "      <th>alphabet_size</th>\n",
       "      <th>ap</th>\n",
       "      <th>auroc</th>\n",
       "      <th>bin_size</th>\n",
       "      <th>capvalue</th>\n",
       "      <th>data_type</th>\n",
       "      <th>discretize</th>\n",
       "      <th>dname</th>\n",
       "      <th>mph</th>\n",
       "      <th>nlabels</th>\n",
       "      <th>scaler</th>\n",
       "      <th>scaling</th>\n",
       "      <th>wincrement</th>\n",
       "      <th>wsize</th>\n",
       "      <th>method</th>\n",
       "    </tr>\n",
       "  </thead>\n",
       "  <tbody>\n",
       "    <tr>\n",
       "      <th>0</th>\n",
       "      <td>__AD_distance_formula_1.0__AD_exact_match_Fals...</td>\n",
       "      <td>30</td>\n",
       "      <td>0.374640</td>\n",
       "      <td>0.551638</td>\n",
       "      <td>1</td>\n",
       "      <td>0.5</td>\n",
       "      <td>univariate</td>\n",
       "      <td>False</td>\n",
       "      <td>request_latency</td>\n",
       "      <td>12</td>\n",
       "      <td>0.0</td>\n",
       "      <td>1.0</td>\n",
       "      <td>False</td>\n",
       "      <td>6.0</td>\n",
       "      <td>12.0</td>\n",
       "      <td>PBAD</td>\n",
       "    </tr>\n",
       "    <tr>\n",
       "      <th>1</th>\n",
       "      <td>__AD_jaccard_threshold_0.9__AD_method_name_FPO...</td>\n",
       "      <td>30</td>\n",
       "      <td>0.296453</td>\n",
       "      <td>0.493286</td>\n",
       "      <td>1</td>\n",
       "      <td>0.5</td>\n",
       "      <td>univariate</td>\n",
       "      <td>False</td>\n",
       "      <td>request_latency</td>\n",
       "      <td>12</td>\n",
       "      <td>0.0</td>\n",
       "      <td>1.0</td>\n",
       "      <td>False</td>\n",
       "      <td>6.0</td>\n",
       "      <td>12.0</td>\n",
       "      <td>FPOF</td>\n",
       "    </tr>\n",
       "    <tr>\n",
       "      <th>2</th>\n",
       "      <td>__AD_distance_formula_1.0__AD_exact_match_Fals...</td>\n",
       "      <td>30</td>\n",
       "      <td>0.358666</td>\n",
       "      <td>0.528736</td>\n",
       "      <td>1</td>\n",
       "      <td>0.5</td>\n",
       "      <td>univariate</td>\n",
       "      <td>False</td>\n",
       "      <td>request_latency</td>\n",
       "      <td>12</td>\n",
       "      <td>0.0</td>\n",
       "      <td>1.0</td>\n",
       "      <td>False</td>\n",
       "      <td>6.0</td>\n",
       "      <td>12.0</td>\n",
       "      <td>PBAD</td>\n",
       "    </tr>\n",
       "    <tr>\n",
       "      <th>3</th>\n",
       "      <td>__AD_distance_formula_1.0__AD_exact_match_Fals...</td>\n",
       "      <td>30</td>\n",
       "      <td>0.382477</td>\n",
       "      <td>0.553028</td>\n",
       "      <td>1</td>\n",
       "      <td>0.5</td>\n",
       "      <td>univariate</td>\n",
       "      <td>False</td>\n",
       "      <td>request_latency</td>\n",
       "      <td>12</td>\n",
       "      <td>0.0</td>\n",
       "      <td>1.0</td>\n",
       "      <td>False</td>\n",
       "      <td>6.0</td>\n",
       "      <td>12.0</td>\n",
       "      <td>PBAD</td>\n",
       "    </tr>\n",
       "    <tr>\n",
       "      <th>4</th>\n",
       "      <td>__AD_distance_formula_1.0__AD_exact_match_Fals...</td>\n",
       "      <td>30</td>\n",
       "      <td>0.397902</td>\n",
       "      <td>0.597092</td>\n",
       "      <td>1</td>\n",
       "      <td>0.5</td>\n",
       "      <td>univariate</td>\n",
       "      <td>False</td>\n",
       "      <td>request_latency</td>\n",
       "      <td>12</td>\n",
       "      <td>0.0</td>\n",
       "      <td>1.0</td>\n",
       "      <td>False</td>\n",
       "      <td>6.0</td>\n",
       "      <td>12.0</td>\n",
       "      <td>PBAD</td>\n",
       "    </tr>\n",
       "  </tbody>\n",
       "</table>\n",
       "</div>"
      ],
      "text/plain": [
       "                                         AD_settings  alphabet_size        ap  \\\n",
       "0  __AD_distance_formula_1.0__AD_exact_match_Fals...             30  0.374640   \n",
       "1  __AD_jaccard_threshold_0.9__AD_method_name_FPO...             30  0.296453   \n",
       "2  __AD_distance_formula_1.0__AD_exact_match_Fals...             30  0.358666   \n",
       "3  __AD_distance_formula_1.0__AD_exact_match_Fals...             30  0.382477   \n",
       "4  __AD_distance_formula_1.0__AD_exact_match_Fals...             30  0.397902   \n",
       "\n",
       "      auroc  bin_size  capvalue   data_type  discretize            dname  mph  \\\n",
       "0  0.551638         1       0.5  univariate       False  request_latency   12   \n",
       "1  0.493286         1       0.5  univariate       False  request_latency   12   \n",
       "2  0.528736         1       0.5  univariate       False  request_latency   12   \n",
       "3  0.553028         1       0.5  univariate       False  request_latency   12   \n",
       "4  0.597092         1       0.5  univariate       False  request_latency   12   \n",
       "\n",
       "   nlabels  scaler  scaling  wincrement  wsize method  \n",
       "0      0.0     1.0    False         6.0   12.0   PBAD  \n",
       "1      0.0     1.0    False         6.0   12.0   FPOF  \n",
       "2      0.0     1.0    False         6.0   12.0   PBAD  \n",
       "3      0.0     1.0    False         6.0   12.0   PBAD  \n",
       "4      0.0     1.0    False         6.0   12.0   PBAD  "
      ]
     },
     "execution_count": 21,
     "metadata": {},
     "output_type": "execute_result"
    }
   ],
   "source": [
    "# load all the results\n",
    "path = '/home/vincentv/dtaijupiter/projects/camera_ready_PBAD/results/_compiled_results/univariate_no_discretization/'\n",
    "#path = '/home/vincentv/dtaijupiter/projects/pattern-outlier-detection/results/_compiled_results/univariate_results_extended/'\n",
    "#path = '/home/vincentv/dtaijupiter/projects/pattern-outlier-detection/results/_compiled_results/univariate/'\n",
    "result_parts = [f for f in glob(os.path.join(path, '*')) if '.csv' in f]\n",
    "result_parts = [d for d in result_parts if not('full_results' in d or '__' in d)]\n",
    "all_results = [pd.read_csv(i, sep=',', header=0, index_col=0) for i in result_parts]\n",
    "results = pd.concat(all_results)\n",
    "results.index = np.arange(0, len(results), 1)\n",
    "\n",
    "# add the method name as an extra column\n",
    "results['method'] = results.apply(lambda x: x['AD_settings'].split('__AD_method_name_')[-1].split('__')[0], axis=1)\n",
    "\n",
    "# print\n",
    "print(results.shape)\n",
    "results.head()"
   ]
  },
  {
   "cell_type": "code",
   "execution_count": 32,
   "metadata": {
    "ExecuteTime": {
     "end_time": "2020-02-04T19:52:56.682224Z",
     "start_time": "2020-02-04T19:52:56.664740Z"
    }
   },
   "outputs": [],
   "source": [
    "methods = OrderedDict([\n",
    "    ('MP', {'method': 'MPAD', 'AD_settings': 'oracle'}),\n",
    "    ('PAV', {'method': 'PAV', 'AD_settings': 'oracle'}),\n",
    "    #('MIFPOD', {'method': 'MIFPOD', 'AD_settings': '__AD_method_name_MIFPOD__AD_relative_minsup_0.1__tune_False__'}),\n",
    "    ('MIFPOD', {'method': 'MIFPOD', 'AD_settings': 'oracle'}),\n",
    "    #('FPOF', {'method': 'FPOF', 'AD_settings': '__AD_jaccard_threshold_0.9__AD_method_name_FPOF__AD_pattern_pruning_closed__AD_relative_minsup_0.1__tune_False__'}),\n",
    "    ('FPOF', {'method': 'FPOF', 'AD_settings': 'oracle'}),\n",
    "    #('PBAD', {'method': 'PBAD', 'AD_settings': '__AD_exact_match_False__AD_jaccard_threshold_0.9__AD_method_name_PBAD__AD_pattern_match_discrete_False__AD_pattern_pruning_closed__AD_pattern_type_all__AD_relative_minsup_0.01__AD_sequential_minlength_1.0__tune_False__'}),\n",
    "    ('PBAD', {'method': 'PBAD', 'AD_settings': '__AD_distance_formula_1.0__AD_exact_match_False__AD_jaccard_threshold_0.9__AD_method_name_PBAD__AD_pattern_match_discrete_False__AD_pattern_pruning_closed__AD_pattern_type_all__AD_relative_minsup_0.01__AD_sequential_minlength_1.0__tune_False__'}),\n",
    "])"
   ]
  },
  {
   "cell_type": "code",
   "execution_count": 33,
   "metadata": {
    "ExecuteTime": {
     "end_time": "2020-02-04T19:52:57.049946Z",
     "start_time": "2020-02-04T19:52:56.968773Z"
    }
   },
   "outputs": [
    {
     "name": "stdout",
     "output_type": "stream",
     "text": [
      "ORACLE selects best settings for: MPAD\n",
      "ORACLE selects best settings for: PAV\n",
      "ORACLE selects best settings for: MIFPOD\n",
      "ORACLE selects best settings for: FPOF\n"
     ]
    },
    {
     "data": {
      "text/html": [
       "<div>\n",
       "<style scoped>\n",
       "    .dataframe tbody tr th:only-of-type {\n",
       "        vertical-align: middle;\n",
       "    }\n",
       "\n",
       "    .dataframe tbody tr th {\n",
       "        vertical-align: top;\n",
       "    }\n",
       "\n",
       "    .dataframe thead th {\n",
       "        text-align: right;\n",
       "    }\n",
       "</style>\n",
       "<table border=\"1\" class=\"dataframe\">\n",
       "  <thead>\n",
       "    <tr style=\"text-align: right;\">\n",
       "      <th></th>\n",
       "      <th>MP</th>\n",
       "      <th>PAV</th>\n",
       "      <th>MIFPOD</th>\n",
       "      <th>FPOF</th>\n",
       "      <th>PBAD</th>\n",
       "    </tr>\n",
       "  </thead>\n",
       "  <tbody>\n",
       "    <tr>\n",
       "      <th>ambient_temperature</th>\n",
       "      <td>0.240</td>\n",
       "      <td>0.590</td>\n",
       "      <td>0.997</td>\n",
       "      <td>0.999</td>\n",
       "      <td>0.998</td>\n",
       "    </tr>\n",
       "    <tr>\n",
       "      <th>new_york_taxi</th>\n",
       "      <td>0.861</td>\n",
       "      <td>0.281</td>\n",
       "      <td>0.846</td>\n",
       "      <td>0.877</td>\n",
       "      <td>0.879</td>\n",
       "    </tr>\n",
       "    <tr>\n",
       "      <th>request_latency</th>\n",
       "      <td>0.599</td>\n",
       "      <td>0.608</td>\n",
       "      <td>0.467</td>\n",
       "      <td>0.493</td>\n",
       "      <td>0.553</td>\n",
       "    </tr>\n",
       "    <tr>\n",
       "      <th>colruyt_aalst</th>\n",
       "      <td>0.656</td>\n",
       "      <td>0.482</td>\n",
       "      <td>0.514</td>\n",
       "      <td>0.825</td>\n",
       "      <td>0.884</td>\n",
       "    </tr>\n",
       "    <tr>\n",
       "      <th>colruyt_aarschot</th>\n",
       "      <td>0.600</td>\n",
       "      <td>0.520</td>\n",
       "      <td>0.513</td>\n",
       "      <td>0.857</td>\n",
       "      <td>0.945</td>\n",
       "    </tr>\n",
       "    <tr>\n",
       "      <th>colruyt_hasselt</th>\n",
       "      <td>0.536</td>\n",
       "      <td>0.457</td>\n",
       "      <td>0.544</td>\n",
       "      <td>0.671</td>\n",
       "      <td>0.605</td>\n",
       "    </tr>\n",
       "    <tr>\n",
       "      <th>colruyt_heverlee</th>\n",
       "      <td>0.675</td>\n",
       "      <td>0.579</td>\n",
       "      <td>0.548</td>\n",
       "      <td>0.613</td>\n",
       "      <td>0.721</td>\n",
       "    </tr>\n",
       "    <tr>\n",
       "      <th>colruyt_mol</th>\n",
       "      <td>0.444</td>\n",
       "      <td>0.581</td>\n",
       "      <td>0.455</td>\n",
       "      <td>0.790</td>\n",
       "      <td>0.960</td>\n",
       "    </tr>\n",
       "    <tr>\n",
       "      <th>colruyt_roodebeek</th>\n",
       "      <td>0.682</td>\n",
       "      <td>0.609</td>\n",
       "      <td>0.500</td>\n",
       "      <td>0.874</td>\n",
       "      <td>0.752</td>\n",
       "    </tr>\n",
       "    <tr>\n",
       "      <th>average_metric</th>\n",
       "      <td>0.588</td>\n",
       "      <td>0.523</td>\n",
       "      <td>0.598</td>\n",
       "      <td>0.778</td>\n",
       "      <td>0.811</td>\n",
       "    </tr>\n",
       "    <tr>\n",
       "      <th>number_of_wins</th>\n",
       "      <td>0.000</td>\n",
       "      <td>1.000</td>\n",
       "      <td>0.000</td>\n",
       "      <td>3.000</td>\n",
       "      <td>5.000</td>\n",
       "    </tr>\n",
       "    <tr>\n",
       "      <th>average_rank</th>\n",
       "      <td>3.333</td>\n",
       "      <td>3.889</td>\n",
       "      <td>4.167</td>\n",
       "      <td>2.000</td>\n",
       "      <td>1.611</td>\n",
       "    </tr>\n",
       "  </tbody>\n",
       "</table>\n",
       "</div>"
      ],
      "text/plain": [
       "                        MP    PAV  MIFPOD   FPOF   PBAD\n",
       "ambient_temperature  0.240  0.590   0.997  0.999  0.998\n",
       "new_york_taxi        0.861  0.281   0.846  0.877  0.879\n",
       "request_latency      0.599  0.608   0.467  0.493  0.553\n",
       "colruyt_aalst        0.656  0.482   0.514  0.825  0.884\n",
       "colruyt_aarschot     0.600  0.520   0.513  0.857  0.945\n",
       "colruyt_hasselt      0.536  0.457   0.544  0.671  0.605\n",
       "colruyt_heverlee     0.675  0.579   0.548  0.613  0.721\n",
       "colruyt_mol          0.444  0.581   0.455  0.790  0.960\n",
       "colruyt_roodebeek    0.682  0.609   0.500  0.874  0.752\n",
       "average_metric       0.588  0.523   0.598  0.778  0.811\n",
       "number_of_wins       0.000  1.000   0.000  3.000  5.000\n",
       "average_rank         3.333  3.889   4.167  2.000  1.611"
      ]
     },
     "execution_count": 33,
     "metadata": {},
     "output_type": "execute_result"
    }
   ],
   "source": [
    "# get matrix with the results\n",
    "matrix, oracle_settings = construct_results_matrix(results, methods, metric='auroc')\n",
    "\n",
    "# combine the night and day of Colruyt stores + add the average metric + the rank + the number of wins\n",
    "matrix = adjust_results_matrix(matrix, drop=True)\n",
    "\n",
    "# AUROC results: round to 3 numbers\n",
    "matrix.astype(float).round(3)"
   ]
  },
  {
   "cell_type": "code",
   "execution_count": null,
   "metadata": {},
   "outputs": [],
   "source": []
  }
 ],
 "metadata": {
  "hide_input": false,
  "kernelspec": {
   "display_name": "Python 3",
   "language": "python",
   "name": "python3"
  },
  "language_info": {
   "codemirror_mode": {
    "name": "ipython",
    "version": 3
   },
   "file_extension": ".py",
   "mimetype": "text/x-python",
   "name": "python",
   "nbconvert_exporter": "python",
   "pygments_lexer": "ipython3",
   "version": "3.7.4"
  },
  "toc": {
   "base_numbering": 1,
   "nav_menu": {},
   "number_sections": true,
   "sideBar": true,
   "skip_h1_title": false,
   "title_cell": "Table of Contents",
   "title_sidebar": "Contents",
   "toc_cell": false,
   "toc_position": {},
   "toc_section_display": true,
   "toc_window_display": false
  },
  "varInspector": {
   "cols": {
    "lenName": 16,
    "lenType": 16,
    "lenVar": 40
   },
   "kernels_config": {
    "python": {
     "delete_cmd_postfix": "",
     "delete_cmd_prefix": "del ",
     "library": "var_list.py",
     "varRefreshCmd": "print(var_dic_list())"
    },
    "r": {
     "delete_cmd_postfix": ") ",
     "delete_cmd_prefix": "rm(",
     "library": "var_list.r",
     "varRefreshCmd": "cat(var_dic_list()) "
    }
   },
   "types_to_exclude": [
    "module",
    "function",
    "builtin_function_or_method",
    "instance",
    "_Feature"
   ],
   "window_display": false
  }
 },
 "nbformat": 4,
 "nbformat_minor": 2
}
